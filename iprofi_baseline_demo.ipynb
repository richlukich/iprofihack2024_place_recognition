{
  "cells": [
    {
      "cell_type": "markdown",
      "metadata": {
        "id": "QrVbGWhxUMnd"
      },
      "source": [
        "## Установка в Google Colab\n",
        "\n",
        "Ячейки ниже рекомендуется использовать для установки зависимостей в Google Colab."
      ]
    },
    {
      "cell_type": "markdown",
      "metadata": {
        "id": "LUMNB4SHUSf2"
      },
      "source": [
        "1. Убедитесь, что вы подключены к окружению с GPU"
      ]
    },
    {
      "cell_type": "code",
      "execution_count": null,
      "metadata": {
        "id": "-5LvQ573UQNf"
      },
      "outputs": [],
      "source": [
        "!nvidia-smi"
      ]
    },
    {
      "cell_type": "markdown",
      "metadata": {
        "id": "PjUs-yGZUWAd"
      },
      "source": [
        "2. Установка необходимых библиотек для сборки MinkowskiEngine"
      ]
    },
    {
      "cell_type": "code",
      "execution_count": null,
      "metadata": {
        "colab": {
          "base_uri": "https://localhost:8080/"
        },
        "id": "AETIQeN5uN2T",
        "outputId": "cae7e1c4-6488-4dff-d8f0-1f49dfbf2b85"
      },
      "outputs": [
        {
          "name": "stdout",
          "output_type": "stream",
          "text": [
            "Reading package lists... Done\n",
            "Building dependency tree... Done\n",
            "Reading state information... Done\n",
            "libopenblas-dev is already the newest version (0.3.20+ds-1).\n",
            "0 upgraded, 0 newly installed, 0 to remove and 45 not upgraded.\n"
          ]
        }
      ],
      "source": [
        "!sudo apt-get install libopenblas-dev"
      ]
    },
    {
      "cell_type": "code",
      "execution_count": null,
      "metadata": {
        "colab": {
          "base_uri": "https://localhost:8080/"
        },
        "id": "k3uBZvcCuMqq",
        "outputId": "f4ae16f6-10bb-4230-aaf0-d324f3cdf073"
      },
      "outputs": [
        {
          "name": "stdout",
          "output_type": "stream",
          "text": [
            "Collecting ninja\n",
            "  Downloading ninja-1.11.1.1-py2.py3-none-manylinux1_x86_64.manylinux_2_5_x86_64.whl (307 kB)\n",
            "\u001b[2K     \u001b[90m━━━━━━━━━━━━━━━━━━━━━━━━━━━━━━━━━━━━━━━━\u001b[0m \u001b[32m307.2/307.2 kB\u001b[0m \u001b[31m2.5 MB/s\u001b[0m eta \u001b[36m0:00:00\u001b[0m\n",
            "\u001b[?25hInstalling collected packages: ninja\n",
            "Successfully installed ninja-1.11.1.1\n"
          ]
        }
      ],
      "source": [
        "!pip install ninja"
      ]
    },
    {
      "cell_type": "markdown",
      "metadata": {
        "id": "6lUTmgztUZup"
      },
      "source": [
        "3. Сборка и установка MinkowskiEngine из репозитория для работы с CUDA 12.2 (занимает много времени)"
      ]
    },
    {
      "cell_type": "code",
      "execution_count": null,
      "metadata": {
        "colab": {
          "base_uri": "https://localhost:8080/"
        },
        "id": "3Go8wOjsuoZC",
        "outputId": "41fbeaf0-8be6-467c-c08f-0211e821047f"
      },
      "outputs": [
        {
          "name": "stdout",
          "output_type": "stream",
          "text": [
            "Using pip 23.1.2 from /usr/local/lib/python3.10/dist-packages/pip (python 3.10)\n",
            "Collecting git+https://github.com/richlukich/MinkowskiEngine\n",
            "  Cloning https://github.com/richlukich/MinkowskiEngine to /tmp/pip-req-build-yxijh0_v\n",
            "  Running command git version\n",
            "  git version 2.34.1\n",
            "  Running command git clone --filter=blob:none https://github.com/richlukich/MinkowskiEngine /tmp/pip-req-build-yxijh0_v\n",
            "  Cloning into '/tmp/pip-req-build-yxijh0_v'...\n",
            "  Updating files:   0% (2/244)\n",
            "  Updating files:   1% (3/244)\n",
            "  Updating files:   2% (5/244)\n",
            "  Updating files:   3% (8/244)\n",
            "  Updating files:   4% (10/244)\n",
            "  Updating files:   5% (13/244)\n",
            "  Updating files:   6% (15/244)\n",
            "  Updating files:   7% (18/244)\n",
            "  Updating files:   8% (20/244)\n",
            "  Updating files:   9% (22/244)\n",
            "  Updating files:  10% (25/244)\n",
            "  Updating files:  11% (27/244)\n",
            "  Updating files:  12% (30/244)\n",
            "  Updating files:  13% (32/244)\n",
            "  Updating files:  14% (35/244)\n",
            "  Updating files:  15% (37/244)\n",
            "  Updating files:  16% (40/244)\n",
            "  Updating files:  17% (42/244)\n",
            "  Updating files:  18% (44/244)\n",
            "  Updating files:  19% (47/244)\n",
            "  Updating files:  20% (49/244)\n",
            "  Updating files:  21% (52/244)\n",
            "  Updating files:  22% (54/244)\n",
            "  Updating files:  23% (57/244)\n",
            "  Updating files:  24% (59/244)\n",
            "  Updating files:  25% (61/244)\n",
            "  Updating files:  26% (64/244)\n",
            "  Updating files:  27% (66/244)\n",
            "  Updating files:  28% (69/244)\n",
            "  Updating files:  29% (71/244)\n",
            "  Updating files:  30% (74/244)\n",
            "  Updating files:  31% (76/244)\n",
            "  Updating files:  32% (79/244)\n",
            "  Updating files:  33% (81/244)\n",
            "  Updating files:  34% (83/244)\n",
            "  Updating files:  35% (86/244)\n",
            "  Updating files:  36% (88/244)\n",
            "  Updating files:  37% (91/244)\n",
            "  Updating files:  38% (93/244)\n",
            "  Updating files:  39% (96/244)\n",
            "  Updating files:  40% (98/244)\n",
            "  Updating files:  41% (101/244)\n",
            "  Updating files:  42% (103/244)\n",
            "  Updating files:  43% (105/244)\n",
            "  Updating files:  44% (108/244)\n",
            "  Updating files:  45% (110/244)\n",
            "  Updating files:  46% (113/244)\n",
            "  Updating files:  47% (115/244)\n",
            "  Updating files:  48% (118/244)\n",
            "  Updating files:  49% (120/244)\n",
            "  Updating files:  50% (122/244)\n",
            "  Updating files:  51% (125/244)\n",
            "  Updating files:  52% (127/244)\n",
            "  Updating files:  53% (130/244)\n",
            "  Updating files:  54% (132/244)\n",
            "  Updating files:  55% (135/244)\n",
            "  Updating files:  56% (137/244)\n",
            "  Updating files:  57% (140/244)\n",
            "  Updating files:  58% (142/244)\n",
            "  Updating files:  59% (144/244)\n",
            "  Updating files:  60% (147/244)\n",
            "  Updating files:  61% (149/244)\n",
            "  Updating files:  62% (152/244)\n",
            "  Updating files:  63% (154/244)\n",
            "  Updating files:  64% (157/244)\n",
            "  Updating files:  65% (159/244)\n",
            "  Updating files:  66% (162/244)\n",
            "  Updating files:  67% (164/244)\n",
            "  Updating files:  68% (166/244)\n",
            "  Updating files:  69% (169/244)\n",
            "  Updating files:  70% (171/244)\n",
            "  Updating files:  71% (174/244)\n",
            "  Updating files:  72% (176/244)\n",
            "  Updating files:  73% (179/244)\n",
            "  Updating files:  74% (181/244)\n",
            "  Updating files:  75% (183/244)\n",
            "  Updating files:  76% (186/244)\n",
            "  Updating files:  77% (188/244)\n",
            "  Updating files:  78% (191/244)\n",
            "  Updating files:  79% (193/244)\n",
            "  Updating files:  80% (196/244)\n",
            "  Updating files:  81% (198/244)\n",
            "  Updating files:  82% (201/244)\n",
            "  Updating files:  83% (203/244)\n",
            "  Updating files:  84% (205/244)\n",
            "  Updating files:  85% (208/244)\n",
            "  Updating files:  86% (210/244)\n",
            "  Updating files:  87% (213/244)\n",
            "  Updating files:  88% (215/244)\n",
            "  Updating files:  89% (218/244)\n",
            "  Updating files:  90% (220/244)\n",
            "  Updating files:  91% (223/244)\n",
            "  Updating files:  92% (225/244)\n",
            "  Updating files:  93% (227/244)\n",
            "  Updating files:  94% (230/244)\n",
            "  Updating files:  95% (232/244)\n",
            "  Updating files:  96% (235/244)\n",
            "  Updating files:  97% (237/244)\n",
            "  Updating files:  98% (240/244)\n",
            "  Updating files:  99% (242/244)\n",
            "  Updating files: 100% (244/244)\n",
            "  Updating files: 100% (244/244), done.\n",
            "  Running command git rev-parse HEAD\n",
            "  a0bfdd0e00dad2209adfadb719ad8429a88cf02d\n",
            "  Resolved https://github.com/richlukich/MinkowskiEngine to commit a0bfdd0e00dad2209adfadb719ad8429a88cf02d\n",
            "  Running command git rev-parse HEAD\n",
            "  a0bfdd0e00dad2209adfadb719ad8429a88cf02d\n",
            "\u001b[33m  DEPRECATION: Config settings are ignored for project git+https://github.com/richlukich/MinkowskiEngine. pip 23.3 will enforce this behaviour change. A possible replacement is to use --use-pep517 or add a pyproject.toml file to the project.\u001b[0m\u001b[33m\n",
            "\u001b[0m  Running command python setup.py egg_info\n",
            "  WARNING: Skipping MinkowskiEngine as it is not installed.\n",
            "  /tmp/pip-req-build-yxijh0_v/setup.py:201: DeprecationWarning:\n",
            "\n",
            "    `numpy.distutils` is deprecated since NumPy 1.23.0, as a result\n",
            "    of the deprecation of `distutils` itself. It will be removed for\n",
            "    Python >= 3.12. For older Python versions it will remain present.\n",
            "    It is recommended to use `setuptools < 60.0` for those Python versions.\n",
            "    For more details, see:\n",
            "      https://numpy.org/devdocs/reference/distutils_status_migration.html\n",
            "\n",
            "\n",
            "    import numpy.distutils.system_info as sysinfo\n",
            "  --------------------------------\n",
            "  | CUDA compilation set         |\n",
            "  --------------------------------\n",
            "\n",
            "  Using BLAS=openblas\n",
            "  Using the default compiler\n",
            "  running egg_info\n",
            "  creating /tmp/pip-pip-egg-info-k5mnoerr/MinkowskiEngine.egg-info\n",
            "  writing /tmp/pip-pip-egg-info-k5mnoerr/MinkowskiEngine.egg-info/PKG-INFO\n",
            "  writing dependency_links to /tmp/pip-pip-egg-info-k5mnoerr/MinkowskiEngine.egg-info/dependency_links.txt\n",
            "  writing requirements to /tmp/pip-pip-egg-info-k5mnoerr/MinkowskiEngine.egg-info/requires.txt\n",
            "  writing top-level names to /tmp/pip-pip-egg-info-k5mnoerr/MinkowskiEngine.egg-info/top_level.txt\n",
            "  writing manifest file '/tmp/pip-pip-egg-info-k5mnoerr/MinkowskiEngine.egg-info/SOURCES.txt'\n",
            "  reading manifest file '/tmp/pip-pip-egg-info-k5mnoerr/MinkowskiEngine.egg-info/SOURCES.txt'\n",
            "  reading manifest template 'MANIFEST.in'\n",
            "  adding license file 'LICENSE'\n",
            "  writing manifest file '/tmp/pip-pip-egg-info-k5mnoerr/MinkowskiEngine.egg-info/SOURCES.txt'\n",
            "  Preparing metadata (setup.py) ... \u001b[?25l\u001b[?25hdone\n",
            "Building wheels for collected packages: MinkowskiEngine\n",
            "  Running command python setup.py bdist_wheel\n",
            "  WARNING: Skipping MinkowskiEngine as it is not installed.\n",
            "  --------------------------------\n",
            "  | CUDA compilation set         |\n",
            "  --------------------------------\n",
            "  /tmp/pip-req-build-yxijh0_v/setup.py:201: DeprecationWarning:\n",
            "\n",
            "    `numpy.distutils` is deprecated since NumPy 1.23.0, as a result\n",
            "    of the deprecation of `distutils` itself. It will be removed for\n",
            "    Python >= 3.12. For older Python versions it will remain present.\n",
            "    It is recommended to use `setuptools < 60.0` for those Python versions.\n",
            "    For more details, see:\n",
            "      https://numpy.org/devdocs/reference/distutils_status_migration.html\n",
            "\n",
            "\n",
            "    import numpy.distutils.system_info as sysinfo\n",
            "\n",
            "  Using BLAS=openblas\n",
            "  Using the default compiler\n",
            "  running bdist_wheel\n",
            "  running build\n",
            "  running build_py\n",
            "  creating build\n",
            "  creating build/lib.linux-x86_64-cpython-310\n",
            "  creating build/lib.linux-x86_64-cpython-310/MinkowskiEngine\n",
            "  copying ./MinkowskiEngine/MinkowskiTensorField.py -> build/lib.linux-x86_64-cpython-310/MinkowskiEngine\n",
            "  copying ./MinkowskiEngine/MinkowskiUnion.py -> build/lib.linux-x86_64-cpython-310/MinkowskiEngine\n",
            "  copying ./MinkowskiEngine/__init__.py -> build/lib.linux-x86_64-cpython-310/MinkowskiEngine\n",
            "  copying ./MinkowskiEngine/MinkowskiConvolution.py -> build/lib.linux-x86_64-cpython-310/MinkowskiEngine\n",
            "  copying ./MinkowskiEngine/MinkowskiTensor.py -> build/lib.linux-x86_64-cpython-310/MinkowskiEngine\n",
            "  copying ./MinkowskiEngine/MinkowskiInterpolation.py -> build/lib.linux-x86_64-cpython-310/MinkowskiEngine\n",
            "  copying ./MinkowskiEngine/MinkowskiChannelwiseConvolution.py -> build/lib.linux-x86_64-cpython-310/MinkowskiEngine\n",
            "  copying ./MinkowskiEngine/MinkowskiOps.py -> build/lib.linux-x86_64-cpython-310/MinkowskiEngine\n",
            "  copying ./MinkowskiEngine/MinkowskiCoordinateManager.py -> build/lib.linux-x86_64-cpython-310/MinkowskiEngine\n",
            "  copying ./MinkowskiEngine/MinkowskiSparseTensor.py -> build/lib.linux-x86_64-cpython-310/MinkowskiEngine\n",
            "  copying ./MinkowskiEngine/sparse_matrix_functions.py -> build/lib.linux-x86_64-cpython-310/MinkowskiEngine\n",
            "  copying ./MinkowskiEngine/MinkowskiKernelGenerator.py -> build/lib.linux-x86_64-cpython-310/MinkowskiEngine\n",
            "  copying ./MinkowskiEngine/MinkowskiPooling.py -> build/lib.linux-x86_64-cpython-310/MinkowskiEngine\n",
            "  copying ./MinkowskiEngine/MinkowskiCommon.py -> build/lib.linux-x86_64-cpython-310/MinkowskiEngine\n",
            "  copying ./MinkowskiEngine/MinkowskiNetwork.py -> build/lib.linux-x86_64-cpython-310/MinkowskiEngine\n",
            "  copying ./MinkowskiEngine/MinkowskiFunctional.py -> build/lib.linux-x86_64-cpython-310/MinkowskiEngine\n",
            "  copying ./MinkowskiEngine/MinkowskiBroadcast.py -> build/lib.linux-x86_64-cpython-310/MinkowskiEngine\n",
            "  copying ./MinkowskiEngine/MinkowskiNormalization.py -> build/lib.linux-x86_64-cpython-310/MinkowskiEngine\n",
            "  copying ./MinkowskiEngine/diagnostics.py -> build/lib.linux-x86_64-cpython-310/MinkowskiEngine\n",
            "  copying ./MinkowskiEngine/MinkowskiPruning.py -> build/lib.linux-x86_64-cpython-310/MinkowskiEngine\n",
            "  copying ./MinkowskiEngine/MinkowskiNonlinearity.py -> build/lib.linux-x86_64-cpython-310/MinkowskiEngine\n",
            "  creating build/lib.linux-x86_64-cpython-310/MinkowskiEngine/utils\n",
            "  copying ./MinkowskiEngine/utils/summary.py -> build/lib.linux-x86_64-cpython-310/MinkowskiEngine/utils\n",
            "  copying ./MinkowskiEngine/utils/__init__.py -> build/lib.linux-x86_64-cpython-310/MinkowskiEngine/utils\n",
            "  copying ./MinkowskiEngine/utils/init.py -> build/lib.linux-x86_64-cpython-310/MinkowskiEngine/utils\n",
            "  copying ./MinkowskiEngine/utils/coords.py -> build/lib.linux-x86_64-cpython-310/MinkowskiEngine/utils\n",
            "  copying ./MinkowskiEngine/utils/collation.py -> build/lib.linux-x86_64-cpython-310/MinkowskiEngine/utils\n",
            "  copying ./MinkowskiEngine/utils/gradcheck.py -> build/lib.linux-x86_64-cpython-310/MinkowskiEngine/utils\n",
            "  copying ./MinkowskiEngine/utils/quantization.py -> build/lib.linux-x86_64-cpython-310/MinkowskiEngine/utils\n",
            "  creating build/lib.linux-x86_64-cpython-310/MinkowskiEngine/modules\n",
            "  copying ./MinkowskiEngine/modules/__init__.py -> build/lib.linux-x86_64-cpython-310/MinkowskiEngine/modules\n",
            "  copying ./MinkowskiEngine/modules/senet_block.py -> build/lib.linux-x86_64-cpython-310/MinkowskiEngine/modules\n",
            "  copying ./MinkowskiEngine/modules/resnet_block.py -> build/lib.linux-x86_64-cpython-310/MinkowskiEngine/modules\n",
            "  running build_ext\n",
            "  /usr/local/lib/python3.10/dist-packages/torch/utils/cpp_extension.py:418: UserWarning: The detected CUDA version (12.2) has a minor version mismatch with the version that was used to compile PyTorch (12.1). Most likely this shouldn't be a problem.\n",
            "    warnings.warn(CUDA_MISMATCH_WARN.format(cuda_str_version, torch.version.cuda))\n",
            "  /usr/local/lib/python3.10/dist-packages/torch/utils/cpp_extension.py:428: UserWarning: There are no x86_64-linux-gnu-g++ version bounds defined for CUDA version 12.2\n",
            "    warnings.warn(f'There are no {compiler_name} version bounds defined for CUDA version {cuda_str_version}')\n",
            "  building 'MinkowskiEngineBackend._C' extension\n",
            "  creating /tmp/pip-req-build-yxijh0_v/build/temp.linux-x86_64-cpython-310\n",
            "  creating /tmp/pip-req-build-yxijh0_v/build/temp.linux-x86_64-cpython-310/tmp\n",
            "  creating /tmp/pip-req-build-yxijh0_v/build/temp.linux-x86_64-cpython-310/tmp/pip-req-build-yxijh0_v\n",
            "  creating /tmp/pip-req-build-yxijh0_v/build/temp.linux-x86_64-cpython-310/tmp/pip-req-build-yxijh0_v/src\n",
            "  creating /tmp/pip-req-build-yxijh0_v/build/temp.linux-x86_64-cpython-310/pybind\n",
            "  /usr/local/lib/python3.10/dist-packages/torch/utils/cpp_extension.py:1967: UserWarning: TORCH_CUDA_ARCH_LIST is not set, all archs for visible cards are included for compilation.\n",
            "  If this is not desired, please set os.environ['TORCH_CUDA_ARCH_LIST'].\n",
            "    warnings.warn(\n",
            "  Emitting ninja build file /tmp/pip-req-build-yxijh0_v/build/temp.linux-x86_64-cpython-310/build.ninja...\n",
            "  Compiling objects...\n",
            "  Allowing ninja to set a default number of workers... (overridable by setting the environment variable MAX_JOBS=N)\n",
            "  [1/21] /usr/local/cuda/bin/nvcc --generate-dependencies-with-compile --dependency-output /tmp/pip-req-build-yxijh0_v/build/temp.linux-x86_64-cpython-310/tmp/pip-req-build-yxijh0_v/src/broadcast_kernel.o.d -I/usr/local/lib/python3.10/dist-packages/torch/include -I/usr/local/lib/python3.10/dist-packages/torch/include/torch/csrc/api/include -I/usr/local/lib/python3.10/dist-packages/torch/include/TH -I/usr/local/lib/python3.10/dist-packages/torch/include/THC -I/usr/local/cuda/include -I/tmp/pip-req-build-yxijh0_v/src -I/tmp/pip-req-build-yxijh0_v/src/3rdparty -I/usr/include/python3.10 -c -c /tmp/pip-req-build-yxijh0_v/src/broadcast_kernel.cu -o /tmp/pip-req-build-yxijh0_v/build/temp.linux-x86_64-cpython-310/tmp/pip-req-build-yxijh0_v/src/broadcast_kernel.o -D__CUDA_NO_HALF_OPERATORS__ -D__CUDA_NO_HALF_CONVERSIONS__ -D__CUDA_NO_BFLOAT16_CONVERSIONS__ -D__CUDA_NO_HALF2_OPERATORS__ --expt-relaxed-constexpr --compiler-options ''\"'\"'-fPIC'\"'\"'' --expt-relaxed-constexpr --expt-extended-lambda -O3 -Xcompiler=-fno-gnu-unique -DTORCH_API_INCLUDE_EXTENSION_H '-DPYBIND11_COMPILER_TYPE=\"_gcc\"' '-DPYBIND11_STDLIB=\"_libstdcpp\"' '-DPYBIND11_BUILD_ABI=\"_cxxabi1011\"' -DTORCH_EXTENSION_NAME=_C -D_GLIBCXX_USE_CXX11_ABI=0 -gencode=arch=compute_75,code=compute_75 -gencode=arch=compute_75,code=sm_75 -std=c++17\n",
            "  [2/21] /usr/local/cuda/bin/nvcc --generate-dependencies-with-compile --dependency-output /tmp/pip-req-build-yxijh0_v/build/temp.linux-x86_64-cpython-310/tmp/pip-req-build-yxijh0_v/src/broadcast_gpu.o.d -I/usr/local/lib/python3.10/dist-packages/torch/include -I/usr/local/lib/python3.10/dist-packages/torch/include/torch/csrc/api/include -I/usr/local/lib/python3.10/dist-packages/torch/include/TH -I/usr/local/lib/python3.10/dist-packages/torch/include/THC -I/usr/local/cuda/include -I/tmp/pip-req-build-yxijh0_v/src -I/tmp/pip-req-build-yxijh0_v/src/3rdparty -I/usr/include/python3.10 -c -c /tmp/pip-req-build-yxijh0_v/src/broadcast_gpu.cu -o /tmp/pip-req-build-yxijh0_v/build/temp.linux-x86_64-cpython-310/tmp/pip-req-build-yxijh0_v/src/broadcast_gpu.o -D__CUDA_NO_HALF_OPERATORS__ -D__CUDA_NO_HALF_CONVERSIONS__ -D__CUDA_NO_BFLOAT16_CONVERSIONS__ -D__CUDA_NO_HALF2_OPERATORS__ --expt-relaxed-constexpr --compiler-options ''\"'\"'-fPIC'\"'\"'' --expt-relaxed-constexpr --expt-extended-lambda -O3 -Xcompiler=-fno-gnu-unique -DTORCH_API_INCLUDE_EXTENSION_H '-DPYBIND11_COMPILER_TYPE=\"_gcc\"' '-DPYBIND11_STDLIB=\"_libstdcpp\"' '-DPYBIND11_BUILD_ABI=\"_cxxabi1011\"' -DTORCH_EXTENSION_NAME=_C -D_GLIBCXX_USE_CXX11_ABI=0 -gencode=arch=compute_75,code=compute_75 -gencode=arch=compute_75,code=sm_75 -std=c++17\n",
            "  [3/21] /usr/local/cuda/bin/nvcc --generate-dependencies-with-compile --dependency-output /tmp/pip-req-build-yxijh0_v/build/temp.linux-x86_64-cpython-310/tmp/pip-req-build-yxijh0_v/src/convolution_gpu.o.d -I/usr/local/lib/python3.10/dist-packages/torch/include -I/usr/local/lib/python3.10/dist-packages/torch/include/torch/csrc/api/include -I/usr/local/lib/python3.10/dist-packages/torch/include/TH -I/usr/local/lib/python3.10/dist-packages/torch/include/THC -I/usr/local/cuda/include -I/tmp/pip-req-build-yxijh0_v/src -I/tmp/pip-req-build-yxijh0_v/src/3rdparty -I/usr/include/python3.10 -c -c /tmp/pip-req-build-yxijh0_v/src/convolution_gpu.cu -o /tmp/pip-req-build-yxijh0_v/build/temp.linux-x86_64-cpython-310/tmp/pip-req-build-yxijh0_v/src/convolution_gpu.o -D__CUDA_NO_HALF_OPERATORS__ -D__CUDA_NO_HALF_CONVERSIONS__ -D__CUDA_NO_BFLOAT16_CONVERSIONS__ -D__CUDA_NO_HALF2_OPERATORS__ --expt-relaxed-constexpr --compiler-options ''\"'\"'-fPIC'\"'\"'' --expt-relaxed-constexpr --expt-extended-lambda -O3 -Xcompiler=-fno-gnu-unique -DTORCH_API_INCLUDE_EXTENSION_H '-DPYBIND11_COMPILER_TYPE=\"_gcc\"' '-DPYBIND11_STDLIB=\"_libstdcpp\"' '-DPYBIND11_BUILD_ABI=\"_cxxabi1011\"' -DTORCH_EXTENSION_NAME=_C -D_GLIBCXX_USE_CXX11_ABI=0 -gencode=arch=compute_75,code=compute_75 -gencode=arch=compute_75,code=sm_75 -std=c++17\n",
            "  [4/21] /usr/local/cuda/bin/nvcc --generate-dependencies-with-compile --dependency-output /tmp/pip-req-build-yxijh0_v/build/temp.linux-x86_64-cpython-310/tmp/pip-req-build-yxijh0_v/src/convolution_kernel.o.d -I/usr/local/lib/python3.10/dist-packages/torch/include -I/usr/local/lib/python3.10/dist-packages/torch/include/torch/csrc/api/include -I/usr/local/lib/python3.10/dist-packages/torch/include/TH -I/usr/local/lib/python3.10/dist-packages/torch/include/THC -I/usr/local/cuda/include -I/tmp/pip-req-build-yxijh0_v/src -I/tmp/pip-req-build-yxijh0_v/src/3rdparty -I/usr/include/python3.10 -c -c /tmp/pip-req-build-yxijh0_v/src/convolution_kernel.cu -o /tmp/pip-req-build-yxijh0_v/build/temp.linux-x86_64-cpython-310/tmp/pip-req-build-yxijh0_v/src/convolution_kernel.o -D__CUDA_NO_HALF_OPERATORS__ -D__CUDA_NO_HALF_CONVERSIONS__ -D__CUDA_NO_BFLOAT16_CONVERSIONS__ -D__CUDA_NO_HALF2_OPERATORS__ --expt-relaxed-constexpr --compiler-options ''\"'\"'-fPIC'\"'\"'' --expt-relaxed-constexpr --expt-extended-lambda -O3 -Xcompiler=-fno-gnu-unique -DTORCH_API_INCLUDE_EXTENSION_H '-DPYBIND11_COMPILER_TYPE=\"_gcc\"' '-DPYBIND11_STDLIB=\"_libstdcpp\"' '-DPYBIND11_BUILD_ABI=\"_cxxabi1011\"' -DTORCH_EXTENSION_NAME=_C -D_GLIBCXX_USE_CXX11_ABI=0 -gencode=arch=compute_75,code=compute_75 -gencode=arch=compute_75,code=sm_75 -std=c++17\n",
            "  /tmp/pip-req-build-yxijh0_v/src/convolution_kernel.cu(334): warning #68-D: integer conversion resulted in a change of sign\n",
            "      size_t n_active_in_volume, shared_mem_size = -1;\n",
            "                                                   ^\n",
            "\n",
            "  Remark: The warnings can be suppressed with \"-diag-suppress <warning-number>\"\n",
            "\n",
            "  /tmp/pip-req-build-yxijh0_v/src/convolution_kernel.cu(573): warning #68-D: integer conversion resulted in a change of sign\n",
            "      size_t n_active_in_volume, shared_mem_size = -1;\n",
            "                                                   ^\n",
            "\n",
            "  /tmp/pip-req-build-yxijh0_v/src/convolution_kernel.cu(334): warning #68-D: integer conversion resulted in a change of sign\n",
            "      size_t n_active_in_volume, shared_mem_size = -1;\n",
            "                                                   ^\n",
            "\n",
            "  Remark: The warnings can be suppressed with \"-diag-suppress <warning-number>\"\n",
            "\n",
            "  /tmp/pip-req-build-yxijh0_v/src/convolution_kernel.cu(573): warning #68-D: integer conversion resulted in a change of sign\n",
            "      size_t n_active_in_volume, shared_mem_size = -1;\n",
            "                                                   ^\n",
            "\n",
            "  [5/21] /usr/local/cuda/bin/nvcc --generate-dependencies-with-compile --dependency-output /tmp/pip-req-build-yxijh0_v/build/temp.linux-x86_64-cpython-310/tmp/pip-req-build-yxijh0_v/src/convolution_transpose_gpu.o.d -I/usr/local/lib/python3.10/dist-packages/torch/include -I/usr/local/lib/python3.10/dist-packages/torch/include/torch/csrc/api/include -I/usr/local/lib/python3.10/dist-packages/torch/include/TH -I/usr/local/lib/python3.10/dist-packages/torch/include/THC -I/usr/local/cuda/include -I/tmp/pip-req-build-yxijh0_v/src -I/tmp/pip-req-build-yxijh0_v/src/3rdparty -I/usr/include/python3.10 -c -c /tmp/pip-req-build-yxijh0_v/src/convolution_transpose_gpu.cu -o /tmp/pip-req-build-yxijh0_v/build/temp.linux-x86_64-cpython-310/tmp/pip-req-build-yxijh0_v/src/convolution_transpose_gpu.o -D__CUDA_NO_HALF_OPERATORS__ -D__CUDA_NO_HALF_CONVERSIONS__ -D__CUDA_NO_BFLOAT16_CONVERSIONS__ -D__CUDA_NO_HALF2_OPERATORS__ --expt-relaxed-constexpr --compiler-options ''\"'\"'-fPIC'\"'\"'' --expt-relaxed-constexpr --expt-extended-lambda -O3 -Xcompiler=-fno-gnu-unique -DTORCH_API_INCLUDE_EXTENSION_H '-DPYBIND11_COMPILER_TYPE=\"_gcc\"' '-DPYBIND11_STDLIB=\"_libstdcpp\"' '-DPYBIND11_BUILD_ABI=\"_cxxabi1011\"' -DTORCH_EXTENSION_NAME=_C -D_GLIBCXX_USE_CXX11_ABI=0 -gencode=arch=compute_75,code=compute_75 -gencode=arch=compute_75,code=sm_75 -std=c++17\n",
            "  [6/21] c++ -MMD -MF /tmp/pip-req-build-yxijh0_v/build/temp.linux-x86_64-cpython-310/tmp/pip-req-build-yxijh0_v/src/direct_max_pool.o.d -Wno-unused-result -Wsign-compare -DNDEBUG -g -fwrapv -O2 -Wall -g -fstack-protector-strong -Wformat -Werror=format-security -g -fwrapv -O2 -fPIC -I/usr/local/lib/python3.10/dist-packages/torch/include -I/usr/local/lib/python3.10/dist-packages/torch/include/torch/csrc/api/include -I/usr/local/lib/python3.10/dist-packages/torch/include/TH -I/usr/local/lib/python3.10/dist-packages/torch/include/THC -I/usr/local/cuda/include -I/tmp/pip-req-build-yxijh0_v/src -I/tmp/pip-req-build-yxijh0_v/src/3rdparty -I/usr/include/python3.10 -c -c /tmp/pip-req-build-yxijh0_v/src/direct_max_pool.cpp -o /tmp/pip-req-build-yxijh0_v/build/temp.linux-x86_64-cpython-310/tmp/pip-req-build-yxijh0_v/src/direct_max_pool.o -fopenmp -O3 -DTORCH_API_INCLUDE_EXTENSION_H '-DPYBIND11_COMPILER_TYPE=\"_gcc\"' '-DPYBIND11_STDLIB=\"_libstdcpp\"' '-DPYBIND11_BUILD_ABI=\"_cxxabi1011\"' -DTORCH_EXTENSION_NAME=_C -D_GLIBCXX_USE_CXX11_ABI=0 -std=c++17\n",
            "  [7/21] /usr/local/cuda/bin/nvcc --generate-dependencies-with-compile --dependency-output /tmp/pip-req-build-yxijh0_v/build/temp.linux-x86_64-cpython-310/tmp/pip-req-build-yxijh0_v/src/coordinate_map_gpu.o.d -I/usr/local/lib/python3.10/dist-packages/torch/include -I/usr/local/lib/python3.10/dist-packages/torch/include/torch/csrc/api/include -I/usr/local/lib/python3.10/dist-packages/torch/include/TH -I/usr/local/lib/python3.10/dist-packages/torch/include/THC -I/usr/local/cuda/include -I/tmp/pip-req-build-yxijh0_v/src -I/tmp/pip-req-build-yxijh0_v/src/3rdparty -I/usr/include/python3.10 -c -c /tmp/pip-req-build-yxijh0_v/src/coordinate_map_gpu.cu -o /tmp/pip-req-build-yxijh0_v/build/temp.linux-x86_64-cpython-310/tmp/pip-req-build-yxijh0_v/src/coordinate_map_gpu.o -D__CUDA_NO_HALF_OPERATORS__ -D__CUDA_NO_HALF_CONVERSIONS__ -D__CUDA_NO_BFLOAT16_CONVERSIONS__ -D__CUDA_NO_HALF2_OPERATORS__ --expt-relaxed-constexpr --compiler-options ''\"'\"'-fPIC'\"'\"'' --expt-relaxed-constexpr --expt-extended-lambda -O3 -Xcompiler=-fno-gnu-unique -DTORCH_API_INCLUDE_EXTENSION_H '-DPYBIND11_COMPILER_TYPE=\"_gcc\"' '-DPYBIND11_STDLIB=\"_libstdcpp\"' '-DPYBIND11_BUILD_ABI=\"_cxxabi1011\"' -DTORCH_EXTENSION_NAME=_C -D_GLIBCXX_USE_CXX11_ABI=0 -gencode=arch=compute_75,code=compute_75 -gencode=arch=compute_75,code=sm_75 -std=c++17\n",
            "  /tmp/pip-req-build-yxijh0_v/src/kernel_region.hpp(428): warning #20014-D: calling a __host__ function from a __host__ __device__ function is not allowed\n",
            "          : base_type{other.region_type(), other.coordinate_size(),\n",
            "            ^\n",
            "            detected during:\n",
            "              instantiation of \"minkowski::gpu_kernel_region<coordinate_type>::gpu_kernel_region(const minkowski::cpu_kernel_region<coordinate_type> &) [with coordinate_type=int32_t]\" at line 626 of /tmp/pip-req-build-yxijh0_v/src/coordinate_map_gpu.cu\n",
            "              instantiation of \"minkowski::CoordinateMapGPU<coordinate_type, TemplatedAllocator>::self_type minkowski::CoordinateMapGPU<coordinate_type, TemplatedAllocator>::stride_region(minkowski::cpu_kernel_region<coordinate_type> &, const minkowski::CoordinateMapGPU<coordinate_type, TemplatedAllocator>::stride_type &) const [with coordinate_type=int32_t, TemplatedAllocator=minkowski::detail::default_allocator]\" at line 2461 of /tmp/pip-req-build-yxijh0_v/src/coordinate_map_gpu.cu\n",
            "\n",
            "  Remark: The warnings can be suppressed with \"-diag-suppress <warning-number>\"\n",
            "\n",
            "  /tmp/pip-req-build-yxijh0_v/src/kernel_region.hpp(428): warning #20014-D: calling a __host__ function from a __host__ __device__ function is not allowed\n",
            "          : base_type{other.region_type(), other.coordinate_size(),\n",
            "            ^\n",
            "            detected during:\n",
            "              instantiation of \"minkowski::gpu_kernel_region<coordinate_type>::gpu_kernel_region(const minkowski::cpu_kernel_region<coordinate_type> &) [with coordinate_type=int32_t]\" at line 626 of /tmp/pip-req-build-yxijh0_v/src/coordinate_map_gpu.cu\n",
            "              instantiation of \"minkowski::CoordinateMapGPU<coordinate_type, TemplatedAllocator>::self_type minkowski::CoordinateMapGPU<coordinate_type, TemplatedAllocator>::stride_region(minkowski::cpu_kernel_region<coordinate_type> &, const minkowski::CoordinateMapGPU<coordinate_type, TemplatedAllocator>::stride_type &) const [with coordinate_type=int32_t, TemplatedAllocator=minkowski::detail::default_allocator]\" at line 2461 of /tmp/pip-req-build-yxijh0_v/src/coordinate_map_gpu.cu\n",
            "\n",
            "  /tmp/pip-req-build-yxijh0_v/src/kernel_region.hpp(428): warning #20014-D: calling a __host__ function from a __host__ __device__ function is not allowed\n",
            "          : base_type{other.region_type(), other.coordinate_size(),\n",
            "            ^\n",
            "            detected during:\n",
            "              instantiation of \"minkowski::gpu_kernel_region<coordinate_type>::gpu_kernel_region(const minkowski::cpu_kernel_region<coordinate_type> &) [with coordinate_type=int32_t]\" at line 626 of /tmp/pip-req-build-yxijh0_v/src/coordinate_map_gpu.cu\n",
            "              instantiation of \"minkowski::CoordinateMapGPU<coordinate_type, TemplatedAllocator>::self_type minkowski::CoordinateMapGPU<coordinate_type, TemplatedAllocator>::stride_region(minkowski::cpu_kernel_region<coordinate_type> &, const minkowski::CoordinateMapGPU<coordinate_type, TemplatedAllocator>::stride_type &) const [with coordinate_type=int32_t, TemplatedAllocator=minkowski::detail::default_allocator]\" at line 2461 of /tmp/pip-req-build-yxijh0_v/src/coordinate_map_gpu.cu\n",
            "\n",
            "  /tmp/pip-req-build-yxijh0_v/src/kernel_region.hpp(428): warning #20014-D: calling a __host__ function from a __host__ __device__ function is not allowed\n",
            "          : base_type{other.region_type(), other.coordinate_size(),\n",
            "            ^\n",
            "            detected during:\n",
            "              instantiation of \"minkowski::gpu_kernel_region<coordinate_type>::gpu_kernel_region(const minkowski::cpu_kernel_region<coordinate_type> &) [with coordinate_type=int32_t]\" at line 626 of /tmp/pip-req-build-yxijh0_v/src/coordinate_map_gpu.cu\n",
            "              instantiation of \"minkowski::CoordinateMapGPU<coordinate_type, TemplatedAllocator>::self_type minkowski::CoordinateMapGPU<coordinate_type, TemplatedAllocator>::stride_region(minkowski::cpu_kernel_region<coordinate_type> &, const minkowski::CoordinateMapGPU<coordinate_type, TemplatedAllocator>::stride_type &) const [with coordinate_type=int32_t, TemplatedAllocator=minkowski::detail::default_allocator]\" at line 2461 of /tmp/pip-req-build-yxijh0_v/src/coordinate_map_gpu.cu\n",
            "\n",
            "  /tmp/pip-req-build-yxijh0_v/src/kernel_region.hpp(429): warning #20011-D: calling a __host__ function(\"minkowski::cpu_kernel_region<int> ::device_tensor_stride() const\") from a __host__ __device__ function(\"minkowski::gpu_kernel_region<int> ::gpu_kernel_region\") is not allowed\n",
            "\n",
            "  /tmp/pip-req-build-yxijh0_v/src/kernel_region.hpp(429): warning #20011-D: calling a __host__ function(\"minkowski::cpu_kernel_region<int> ::device_kernel_size() const\") from a __host__ __device__ function(\"minkowski::gpu_kernel_region<int> ::gpu_kernel_region\") is not allowed\n",
            "\n",
            "  /tmp/pip-req-build-yxijh0_v/src/kernel_region.hpp(430): warning #20011-D: calling a __host__ function(\"minkowski::cpu_kernel_region<int> ::device_dilation() const\") from a __host__ __device__ function(\"minkowski::gpu_kernel_region<int> ::gpu_kernel_region\") is not allowed\n",
            "\n",
            "  /tmp/pip-req-build-yxijh0_v/src/kernel_region.hpp(431): warning #20011-D: calling a __host__ function(\"minkowski::cpu_kernel_region<int> ::device_offset() const\") from a __host__ __device__ function(\"minkowski::gpu_kernel_region<int> ::gpu_kernel_region\") is not allowed\n",
            "\n",
            "  [8/21] /usr/local/cuda/bin/nvcc --generate-dependencies-with-compile --dependency-output /tmp/pip-req-build-yxijh0_v/build/temp.linux-x86_64-cpython-310/tmp/pip-req-build-yxijh0_v/src/gpu.o.d -I/usr/local/lib/python3.10/dist-packages/torch/include -I/usr/local/lib/python3.10/dist-packages/torch/include/torch/csrc/api/include -I/usr/local/lib/python3.10/dist-packages/torch/include/TH -I/usr/local/lib/python3.10/dist-packages/torch/include/THC -I/usr/local/cuda/include -I/tmp/pip-req-build-yxijh0_v/src -I/tmp/pip-req-build-yxijh0_v/src/3rdparty -I/usr/include/python3.10 -c -c /tmp/pip-req-build-yxijh0_v/src/gpu.cu -o /tmp/pip-req-build-yxijh0_v/build/temp.linux-x86_64-cpython-310/tmp/pip-req-build-yxijh0_v/src/gpu.o -D__CUDA_NO_HALF_OPERATORS__ -D__CUDA_NO_HALF_CONVERSIONS__ -D__CUDA_NO_BFLOAT16_CONVERSIONS__ -D__CUDA_NO_HALF2_OPERATORS__ --expt-relaxed-constexpr --compiler-options ''\"'\"'-fPIC'\"'\"'' --expt-relaxed-constexpr --expt-extended-lambda -O3 -Xcompiler=-fno-gnu-unique -DTORCH_API_INCLUDE_EXTENSION_H '-DPYBIND11_COMPILER_TYPE=\"_gcc\"' '-DPYBIND11_STDLIB=\"_libstdcpp\"' '-DPYBIND11_BUILD_ABI=\"_cxxabi1011\"' -DTORCH_EXTENSION_NAME=_C -D_GLIBCXX_USE_CXX11_ABI=0 -gencode=arch=compute_75,code=compute_75 -gencode=arch=compute_75,code=sm_75 -std=c++17\n",
            "  /tmp/pip-req-build-yxijh0_v/src/gpu.cu(104): warning #177-D: function \"minkowski::format_size\" was declared but never referenced\n",
            "    static std::string format_size(uint64_t size) {\n",
            "                       ^\n",
            "\n",
            "  Remark: The warnings can be suppressed with \"-diag-suppress <warning-number>\"\n",
            "\n",
            "  [9/21] /usr/local/cuda/bin/nvcc --generate-dependencies-with-compile --dependency-output /tmp/pip-req-build-yxijh0_v/build/temp.linux-x86_64-cpython-310/tmp/pip-req-build-yxijh0_v/src/coordinate_map_manager.o.d -I/usr/local/lib/python3.10/dist-packages/torch/include -I/usr/local/lib/python3.10/dist-packages/torch/include/torch/csrc/api/include -I/usr/local/lib/python3.10/dist-packages/torch/include/TH -I/usr/local/lib/python3.10/dist-packages/torch/include/THC -I/usr/local/cuda/include -I/tmp/pip-req-build-yxijh0_v/src -I/tmp/pip-req-build-yxijh0_v/src/3rdparty -I/usr/include/python3.10 -c -c /tmp/pip-req-build-yxijh0_v/src/coordinate_map_manager.cu -o /tmp/pip-req-build-yxijh0_v/build/temp.linux-x86_64-cpython-310/tmp/pip-req-build-yxijh0_v/src/coordinate_map_manager.o -D__CUDA_NO_HALF_OPERATORS__ -D__CUDA_NO_HALF_CONVERSIONS__ -D__CUDA_NO_BFLOAT16_CONVERSIONS__ -D__CUDA_NO_HALF2_OPERATORS__ --expt-relaxed-constexpr --compiler-options ''\"'\"'-fPIC'\"'\"'' --expt-relaxed-constexpr --expt-extended-lambda -O3 -Xcompiler=-fno-gnu-unique -DTORCH_API_INCLUDE_EXTENSION_H '-DPYBIND11_COMPILER_TYPE=\"_gcc\"' '-DPYBIND11_STDLIB=\"_libstdcpp\"' '-DPYBIND11_BUILD_ABI=\"_cxxabi1011\"' -DTORCH_EXTENSION_NAME=_C -D_GLIBCXX_USE_CXX11_ABI=0 -gencode=arch=compute_75,code=compute_75 -gencode=arch=compute_75,code=sm_75 -std=c++17\n",
            "  /tmp/pip-req-build-yxijh0_v/src/coordinate_map_manager.cpp(717): warning #430-D: returning reference to local temporary\n",
            "          return detail::empty_map_functor<coordinate_type, TemplatedAllocator,\n",
            "                 ^\n",
            "            detected during instantiation of \"const minkowski::CoordinateMapManager<coordinate_type, coordinate_field_type, TemplatedAllocator, CoordinateMapType>::kernel_map_type &minkowski::CoordinateMapManager<coordinate_type, coordinate_field_type, TemplatedAllocator, CoordinateMapType>::kernel_map(const minkowski::CoordinateMapKey *, const minkowski::CoordinateMapKey *, const minkowski::CoordinateMapManager<coordinate_type, coordinate_field_type, TemplatedAllocator, CoordinateMapType>::stride_type &, const minkowski::CoordinateMapManager<coordinate_type, coordinate_field_type, TemplatedAllocator, CoordinateMapType>::stride_type &, const minkowski::CoordinateMapManager<coordinate_type, coordinate_field_type, TemplatedAllocator, CoordinateMapType>::stride_type &, minkowski::RegionType::Type, const at::Tensor &, bool, bool) [with coordinate_type=int32_t, coordinate_field_type=float, TemplatedAllocator=std::allocator, CoordinateMapType=minkowski::CoordinateMapCPU]\" at line 1451\n",
            "\n",
            "  Remark: The warnings can be suppressed with \"-diag-suppress <warning-number>\"\n",
            "\n",
            "  /tmp/pip-req-build-yxijh0_v/src/coordinate_map_manager.cpp(717): warning #430-D: returning reference to local temporary\n",
            "          return detail::empty_map_functor<coordinate_type, TemplatedAllocator,\n",
            "                 ^\n",
            "            detected during instantiation of \"const minkowski::CoordinateMapManager<coordinate_type, coordinate_field_type, TemplatedAllocator, CoordinateMapType>::kernel_map_type &minkowski::CoordinateMapManager<coordinate_type, coordinate_field_type, TemplatedAllocator, CoordinateMapType>::kernel_map(const minkowski::CoordinateMapKey *, const minkowski::CoordinateMapKey *, const minkowski::CoordinateMapManager<coordinate_type, coordinate_field_type, TemplatedAllocator, CoordinateMapType>::stride_type &, const minkowski::CoordinateMapManager<coordinate_type, coordinate_field_type, TemplatedAllocator, CoordinateMapType>::stride_type &, const minkowski::CoordinateMapManager<coordinate_type, coordinate_field_type, TemplatedAllocator, CoordinateMapType>::stride_type &, minkowski::RegionType::Type, const at::Tensor &, bool, bool) [with coordinate_type=int32_t, coordinate_field_type=float, TemplatedAllocator=minkowski::detail::default_allocator, CoordinateMapType=minkowski::CoordinateMapGPU]\" at line 401 of /tmp/pip-req-build-yxijh0_v/src/coordinate_map_manager.cu\n",
            "\n",
            "  /tmp/pip-req-build-yxijh0_v/src/coordinate_map_manager.cpp(717): warning #430-D: returning reference to local temporary\n",
            "          return detail::empty_map_functor<coordinate_type, TemplatedAllocator,\n",
            "                 ^\n",
            "            detected during instantiation of \"const minkowski::CoordinateMapManager<coordinate_type, coordinate_field_type, TemplatedAllocator, CoordinateMapType>::kernel_map_type &minkowski::CoordinateMapManager<coordinate_type, coordinate_field_type, TemplatedAllocator, CoordinateMapType>::kernel_map(const minkowski::CoordinateMapKey *, const minkowski::CoordinateMapKey *, const minkowski::CoordinateMapManager<coordinate_type, coordinate_field_type, TemplatedAllocator, CoordinateMapType>::stride_type &, const minkowski::CoordinateMapManager<coordinate_type, coordinate_field_type, TemplatedAllocator, CoordinateMapType>::stride_type &, const minkowski::CoordinateMapManager<coordinate_type, coordinate_field_type, TemplatedAllocator, CoordinateMapType>::stride_type &, minkowski::RegionType::Type, const at::Tensor &, bool, bool) [with coordinate_type=int32_t, coordinate_field_type=float, TemplatedAllocator=minkowski::detail::c10_allocator, CoordinateMapType=minkowski::CoordinateMapGPU]\" at line 404 of /tmp/pip-req-build-yxijh0_v/src/coordinate_map_manager.cu\n",
            "\n",
            "  /tmp/pip-req-build-yxijh0_v/src/coordinate_map_cpu.hpp(58): warning #177-D: variable \"float_type\" was declared but never referenced\n",
            "      at::ScalarType const float_type =\n",
            "                           ^\n",
            "            detected during:\n",
            "              instantiation of \"std::pair<at::Tensor, at::Tensor> minkowski::CoordinateMapCPU<coordinate_type, TemplatedAllocator>::field_map(const coordinate_field_type *, minkowski::CoordinateMapCPU<coordinate_type, TemplatedAllocator>::size_type) const [with coordinate_type=int32_t, TemplatedAllocator=std::allocator, coordinate_field_type=float]\" at line 329 of /tmp/pip-req-build-yxijh0_v/src/coordinate_map_manager.cpp\n",
            "              instantiation of \"std::pair<at::Tensor, at::Tensor> minkowski::CoordinateMapManager<coordinate_type, coordinate_field_type, TemplatedAllocator, CoordinateMapType>::field_to_sparse_map(const minkowski::CoordinateMapKey *, const minkowski::CoordinateMapKey *) [with coordinate_type=int32_t, coordinate_field_type=float, TemplatedAllocator=std::allocator, CoordinateMapType=minkowski::CoordinateMapCPU]\" at line 1451 of /tmp/pip-req-build-yxijh0_v/src/coordinate_map_manager.cpp\n",
            "\n",
            "  Remark: The warnings can be suppressed with \"-diag-suppress <warning-number>\"\n",
            "\n",
            "  /tmp/pip-req-build-yxijh0_v/src/coordinate_map_manager.cpp(717): warning #430-D: returning reference to local temporary\n",
            "          return detail::empty_map_functor<coordinate_type, TemplatedAllocator,\n",
            "                 ^\n",
            "            detected during instantiation of \"const minkowski::CoordinateMapManager<coordinate_type, coordinate_field_type, TemplatedAllocator, CoordinateMapType>::kernel_map_type &minkowski::CoordinateMapManager<coordinate_type, coordinate_field_type, TemplatedAllocator, CoordinateMapType>::kernel_map(const minkowski::CoordinateMapKey *, const minkowski::CoordinateMapKey *, const minkowski::CoordinateMapManager<coordinate_type, coordinate_field_type, TemplatedAllocator, CoordinateMapType>::stride_type &, const minkowski::CoordinateMapManager<coordinate_type, coordinate_field_type, TemplatedAllocator, CoordinateMapType>::stride_type &, const minkowski::CoordinateMapManager<coordinate_type, coordinate_field_type, TemplatedAllocator, CoordinateMapType>::stride_type &, minkowski::RegionType::Type, const at::Tensor &, __nv_bool, __nv_bool) [with coordinate_type=int32_t, coordinate_field_type=float, TemplatedAllocator=std::allocator, CoordinateMapType=minkowski::CoordinateMapCPU]\" at line 1451\n",
            "\n",
            "  /tmp/pip-req-build-yxijh0_v/src/coordinate_map_manager.cpp(717): warning #430-D: returning reference to local temporary\n",
            "          return detail::empty_map_functor<coordinate_type, TemplatedAllocator,\n",
            "                 ^\n",
            "            detected during instantiation of \"const minkowski::CoordinateMapManager<coordinate_type, coordinate_field_type, TemplatedAllocator, CoordinateMapType>::kernel_map_type &minkowski::CoordinateMapManager<coordinate_type, coordinate_field_type, TemplatedAllocator, CoordinateMapType>::kernel_map(const minkowski::CoordinateMapKey *, const minkowski::CoordinateMapKey *, const minkowski::CoordinateMapManager<coordinate_type, coordinate_field_type, TemplatedAllocator, CoordinateMapType>::stride_type &, const minkowski::CoordinateMapManager<coordinate_type, coordinate_field_type, TemplatedAllocator, CoordinateMapType>::stride_type &, const minkowski::CoordinateMapManager<coordinate_type, coordinate_field_type, TemplatedAllocator, CoordinateMapType>::stride_type &, minkowski::RegionType::Type, const at::Tensor &, __nv_bool, __nv_bool) [with coordinate_type=int32_t, coordinate_field_type=float, TemplatedAllocator=minkowski::detail::default_allocator, CoordinateMapType=minkowski::CoordinateMapGPU]\" at line 401 of /tmp/pip-req-build-yxijh0_v/src/coordinate_map_manager.cu\n",
            "\n",
            "  /tmp/pip-req-build-yxijh0_v/src/kernel_region.hpp(428): warning #20014-D: calling a __host__ function from a __host__ __device__ function is not allowed\n",
            "          : base_type{other.region_type(), other.coordinate_size(),\n",
            "            ^\n",
            "            detected during:\n",
            "              instantiation of \"minkowski::gpu_kernel_region<coordinate_type>::gpu_kernel_region(const minkowski::cpu_kernel_region<coordinate_type> &) [with coordinate_type=int32_t]\" at line 205 of /tmp/pip-req-build-yxijh0_v/src/coordinate_map_manager.cu\n",
            "              instantiation of \"minkowski::gpu_kernel_map<minkowski::type_wrapper<uint32_t, int32_t, float>::index_type, TemplatedAllocator<char>> minkowski::detail::kernel_map_functor<coordinate_type, TemplatedAllocator, minkowski::CoordinateMapGPU, minkowski::gpu_kernel_map<minkowski::type_wrapper<uint32_t, int32_t, float>::index_type, TemplatedAllocator<char>>>::operator()(const minkowski::CoordinateMapGPU<coordinate_type, TemplatedAllocator> &, const minkowski::CoordinateMapGPU<coordinate_type, TemplatedAllocator> &, minkowski::CUDAKernelMapMode::Mode, minkowski::cpu_kernel_region<coordinate_type> &) [with coordinate_type=int32_t, TemplatedAllocator=minkowski::detail::default_allocator]\" at line 753 of /tmp/pip-req-build-yxijh0_v/src/coordinate_map_manager.cpp\n",
            "              instantiation of \"const minkowski::CoordinateMapManager<coordinate_type, coordinate_field_type, TemplatedAllocator, CoordinateMapType>::kernel_map_type &minkowski::CoordinateMapManager<coordinate_type, coordinate_field_type, TemplatedAllocator, CoordinateMapType>::kernel_map(const minkowski::CoordinateMapKey *, const minkowski::CoordinateMapKey *, const minkowski::CoordinateMapManager<coordinate_type, coordinate_field_type, TemplatedAllocator, CoordinateMapType>::stride_type &, const minkowski::CoordinateMapManager<coordinate_type, coordinate_field_type, TemplatedAllocator, CoordinateMapType>::stride_type &, const minkowski::CoordinateMapManager<coordinate_type, coordinate_field_type, TemplatedAllocator, CoordinateMapType>::stride_type &, minkowski::RegionType::Type, const at::Tensor &, __nv_bool, __nv_bool) [with coordinate_type=int32_t, coordinate_field_type=float, TemplatedAllocator=minkowski::detail::default_allocator, CoordinateMapType=minkowski::CoordinateMapGPU]\" at line 401 of /tmp/pip-req-build-yxijh0_v/src/coordinate_map_manager.cu\n",
            "\n",
            "  /tmp/pip-req-build-yxijh0_v/src/kernel_region.hpp(428): warning #20014-D: calling a __host__ function from a __host__ __device__ function is not allowed\n",
            "          : base_type{other.region_type(), other.coordinate_size(),\n",
            "            ^\n",
            "            detected during:\n",
            "              instantiation of \"minkowski::gpu_kernel_region<coordinate_type>::gpu_kernel_region(const minkowski::cpu_kernel_region<coordinate_type> &) [with coordinate_type=int32_t]\" at line 205 of /tmp/pip-req-build-yxijh0_v/src/coordinate_map_manager.cu\n",
            "              instantiation of \"minkowski::gpu_kernel_map<minkowski::type_wrapper<uint32_t, int32_t, float>::index_type, TemplatedAllocator<char>> minkowski::detail::kernel_map_functor<coordinate_type, TemplatedAllocator, minkowski::CoordinateMapGPU, minkowski::gpu_kernel_map<minkowski::type_wrapper<uint32_t, int32_t, float>::index_type, TemplatedAllocator<char>>>::operator()(const minkowski::CoordinateMapGPU<coordinate_type, TemplatedAllocator> &, const minkowski::CoordinateMapGPU<coordinate_type, TemplatedAllocator> &, minkowski::CUDAKernelMapMode::Mode, minkowski::cpu_kernel_region<coordinate_type> &) [with coordinate_type=int32_t, TemplatedAllocator=minkowski::detail::default_allocator]\" at line 753 of /tmp/pip-req-build-yxijh0_v/src/coordinate_map_manager.cpp\n",
            "              instantiation of \"const minkowski::CoordinateMapManager<coordinate_type, coordinate_field_type, TemplatedAllocator, CoordinateMapType>::kernel_map_type &minkowski::CoordinateMapManager<coordinate_type, coordinate_field_type, TemplatedAllocator, CoordinateMapType>::kernel_map(const minkowski::CoordinateMapKey *, const minkowski::CoordinateMapKey *, const minkowski::CoordinateMapManager<coordinate_type, coordinate_field_type, TemplatedAllocator, CoordinateMapType>::stride_type &, const minkowski::CoordinateMapManager<coordinate_type, coordinate_field_type, TemplatedAllocator, CoordinateMapType>::stride_type &, const minkowski::CoordinateMapManager<coordinate_type, coordinate_field_type, TemplatedAllocator, CoordinateMapType>::stride_type &, minkowski::RegionType::Type, const at::Tensor &, __nv_bool, __nv_bool) [with coordinate_type=int32_t, coordinate_field_type=float, TemplatedAllocator=minkowski::detail::default_allocator, CoordinateMapType=minkowski::CoordinateMapGPU]\" at line 401 of /tmp/pip-req-build-yxijh0_v/src/coordinate_map_manager.cu\n",
            "\n",
            "  /tmp/pip-req-build-yxijh0_v/src/kernel_region.hpp(428): warning #20014-D: calling a __host__ function from a __host__ __device__ function is not allowed\n",
            "          : base_type{other.region_type(), other.coordinate_size(),\n",
            "            ^\n",
            "            detected during:\n",
            "              instantiation of \"minkowski::gpu_kernel_region<coordinate_type>::gpu_kernel_region(const minkowski::cpu_kernel_region<coordinate_type> &) [with coordinate_type=int32_t]\" at line 205 of /tmp/pip-req-build-yxijh0_v/src/coordinate_map_manager.cu\n",
            "              instantiation of \"minkowski::gpu_kernel_map<minkowski::type_wrapper<uint32_t, int32_t, float>::index_type, TemplatedAllocator<char>> minkowski::detail::kernel_map_functor<coordinate_type, TemplatedAllocator, minkowski::CoordinateMapGPU, minkowski::gpu_kernel_map<minkowski::type_wrapper<uint32_t, int32_t, float>::index_type, TemplatedAllocator<char>>>::operator()(const minkowski::CoordinateMapGPU<coordinate_type, TemplatedAllocator> &, const minkowski::CoordinateMapGPU<coordinate_type, TemplatedAllocator> &, minkowski::CUDAKernelMapMode::Mode, minkowski::cpu_kernel_region<coordinate_type> &) [with coordinate_type=int32_t, TemplatedAllocator=minkowski::detail::default_allocator]\" at line 753 of /tmp/pip-req-build-yxijh0_v/src/coordinate_map_manager.cpp\n",
            "              instantiation of \"const minkowski::CoordinateMapManager<coordinate_type, coordinate_field_type, TemplatedAllocator, CoordinateMapType>::kernel_map_type &minkowski::CoordinateMapManager<coordinate_type, coordinate_field_type, TemplatedAllocator, CoordinateMapType>::kernel_map(const minkowski::CoordinateMapKey *, const minkowski::CoordinateMapKey *, const minkowski::CoordinateMapManager<coordinate_type, coordinate_field_type, TemplatedAllocator, CoordinateMapType>::stride_type &, const minkowski::CoordinateMapManager<coordinate_type, coordinate_field_type, TemplatedAllocator, CoordinateMapType>::stride_type &, const minkowski::CoordinateMapManager<coordinate_type, coordinate_field_type, TemplatedAllocator, CoordinateMapType>::stride_type &, minkowski::RegionType::Type, const at::Tensor &, __nv_bool, __nv_bool) [with coordinate_type=int32_t, coordinate_field_type=float, TemplatedAllocator=minkowski::detail::default_allocator, CoordinateMapType=minkowski::CoordinateMapGPU]\" at line 401 of /tmp/pip-req-build-yxijh0_v/src/coordinate_map_manager.cu\n",
            "\n",
            "  /tmp/pip-req-build-yxijh0_v/src/kernel_region.hpp(428): warning #20014-D: calling a __host__ function from a __host__ __device__ function is not allowed\n",
            "          : base_type{other.region_type(), other.coordinate_size(),\n",
            "            ^\n",
            "            detected during:\n",
            "              instantiation of \"minkowski::gpu_kernel_region<coordinate_type>::gpu_kernel_region(const minkowski::cpu_kernel_region<coordinate_type> &) [with coordinate_type=int32_t]\" at line 205 of /tmp/pip-req-build-yxijh0_v/src/coordinate_map_manager.cu\n",
            "              instantiation of \"minkowski::gpu_kernel_map<minkowski::type_wrapper<uint32_t, int32_t, float>::index_type, TemplatedAllocator<char>> minkowski::detail::kernel_map_functor<coordinate_type, TemplatedAllocator, minkowski::CoordinateMapGPU, minkowski::gpu_kernel_map<minkowski::type_wrapper<uint32_t, int32_t, float>::index_type, TemplatedAllocator<char>>>::operator()(const minkowski::CoordinateMapGPU<coordinate_type, TemplatedAllocator> &, const minkowski::CoordinateMapGPU<coordinate_type, TemplatedAllocator> &, minkowski::CUDAKernelMapMode::Mode, minkowski::cpu_kernel_region<coordinate_type> &) [with coordinate_type=int32_t, TemplatedAllocator=minkowski::detail::default_allocator]\" at line 753 of /tmp/pip-req-build-yxijh0_v/src/coordinate_map_manager.cpp\n",
            "              instantiation of \"const minkowski::CoordinateMapManager<coordinate_type, coordinate_field_type, TemplatedAllocator, CoordinateMapType>::kernel_map_type &minkowski::CoordinateMapManager<coordinate_type, coordinate_field_type, TemplatedAllocator, CoordinateMapType>::kernel_map(const minkowski::CoordinateMapKey *, const minkowski::CoordinateMapKey *, const minkowski::CoordinateMapManager<coordinate_type, coordinate_field_type, TemplatedAllocator, CoordinateMapType>::stride_type &, const minkowski::CoordinateMapManager<coordinate_type, coordinate_field_type, TemplatedAllocator, CoordinateMapType>::stride_type &, const minkowski::CoordinateMapManager<coordinate_type, coordinate_field_type, TemplatedAllocator, CoordinateMapType>::stride_type &, minkowski::RegionType::Type, const at::Tensor &, __nv_bool, __nv_bool) [with coordinate_type=int32_t, coordinate_field_type=float, TemplatedAllocator=minkowski::detail::default_allocator, CoordinateMapType=minkowski::CoordinateMapGPU]\" at line 401 of /tmp/pip-req-build-yxijh0_v/src/coordinate_map_manager.cu\n",
            "\n",
            "  /tmp/pip-req-build-yxijh0_v/src/coordinate_map_manager.cpp(717): warning #430-D: returning reference to local temporary\n",
            "          return detail::empty_map_functor<coordinate_type, TemplatedAllocator,\n",
            "                 ^\n",
            "            detected during instantiation of \"const minkowski::CoordinateMapManager<coordinate_type, coordinate_field_type, TemplatedAllocator, CoordinateMapType>::kernel_map_type &minkowski::CoordinateMapManager<coordinate_type, coordinate_field_type, TemplatedAllocator, CoordinateMapType>::kernel_map(const minkowski::CoordinateMapKey *, const minkowski::CoordinateMapKey *, const minkowski::CoordinateMapManager<coordinate_type, coordinate_field_type, TemplatedAllocator, CoordinateMapType>::stride_type &, const minkowski::CoordinateMapManager<coordinate_type, coordinate_field_type, TemplatedAllocator, CoordinateMapType>::stride_type &, const minkowski::CoordinateMapManager<coordinate_type, coordinate_field_type, TemplatedAllocator, CoordinateMapType>::stride_type &, minkowski::RegionType::Type, const at::Tensor &, __nv_bool, __nv_bool) [with coordinate_type=int32_t, coordinate_field_type=float, TemplatedAllocator=minkowski::detail::c10_allocator, CoordinateMapType=minkowski::CoordinateMapGPU]\" at line 404 of /tmp/pip-req-build-yxijh0_v/src/coordinate_map_manager.cu\n",
            "\n",
            "  /tmp/pip-req-build-yxijh0_v/src/kernel_region.hpp(429): warning #20011-D: calling a __host__ function(\"minkowski::cpu_kernel_region<int> ::device_tensor_stride() const\") from a __host__ __device__ function(\"minkowski::gpu_kernel_region<int> ::gpu_kernel_region\") is not allowed\n",
            "\n",
            "  /tmp/pip-req-build-yxijh0_v/src/kernel_region.hpp(429): warning #20011-D: calling a __host__ function(\"minkowski::cpu_kernel_region<int> ::device_kernel_size() const\") from a __host__ __device__ function(\"minkowski::gpu_kernel_region<int> ::gpu_kernel_region\") is not allowed\n",
            "\n",
            "  /tmp/pip-req-build-yxijh0_v/src/kernel_region.hpp(430): warning #20011-D: calling a __host__ function(\"minkowski::cpu_kernel_region<int> ::device_dilation() const\") from a __host__ __device__ function(\"minkowski::gpu_kernel_region<int> ::gpu_kernel_region\") is not allowed\n",
            "\n",
            "  /tmp/pip-req-build-yxijh0_v/src/kernel_region.hpp(431): warning #20011-D: calling a __host__ function(\"minkowski::cpu_kernel_region<int> ::device_offset() const\") from a __host__ __device__ function(\"minkowski::gpu_kernel_region<int> ::gpu_kernel_region\") is not allowed\n",
            "\n",
            "  /tmp/pip-req-build-yxijh0_v/src/coordinate_map_manager.cpp: In instantiation of ‘const kernel_map_type& minkowski::CoordinateMapManager<coordinate_type, coordinate_field_type, TemplatedAllocator, CoordinateMapType>::kernel_map(const minkowski::CoordinateMapKey*, const minkowski::CoordinateMapKey*, const stride_type&, const stride_type&, const stride_type&, minkowski::RegionType::Type, const at::Tensor&, bool, bool) [with coordinate_type = int; coordinate_field_type = float; TemplatedAllocator = std::allocator; CoordinateMapType = minkowski::CoordinateMapCPU; minkowski::CoordinateMapManager<coordinate_type, coordinate_field_type, TemplatedAllocator, CoordinateMapType>::kernel_map_type = minkowski::cpu_kernel_map; minkowski::CoordinateMapManager<coordinate_type, coordinate_field_type, TemplatedAllocator, CoordinateMapType>::stride_type = std::vector<unsigned int, std::allocator<unsigned int> >]’:\n",
            "  /tmp/pip-req-build-yxijh0_v/src/coordinate_map_manager.cpp:1451:16:   required from here\n",
            "  /tmp/pip-req-build-yxijh0_v/src/coordinate_map_manager.cpp:717:260: warning: returning reference to temporary [-Wreturn-local-addr]\n",
            "    717 |       return detail::empty_map_functor<coordinate_type, TemplatedAllocator,\n",
            "        |                                                                                                                                                                                                                                                                    ^\n",
            "  /tmp/pip-req-build-yxijh0_v/src/coordinate_map_manager.cpp: In instantiation of ‘const kernel_map_type& minkowski::CoordinateMapManager<coordinate_type, coordinate_field_type, TemplatedAllocator, CoordinateMapType>::kernel_map(const minkowski::CoordinateMapKey*, const minkowski::CoordinateMapKey*, const stride_type&, const stride_type&, const stride_type&, minkowski::RegionType::Type, const at::Tensor&, bool, bool) [with coordinate_type = int; coordinate_field_type = float; TemplatedAllocator = minkowski::detail::default_allocator; CoordinateMapType = minkowski::CoordinateMapGPU; minkowski::CoordinateMapManager<coordinate_type, coordinate_field_type, TemplatedAllocator, CoordinateMapType>::kernel_map_type = minkowski::gpu_kernel_map<unsigned int, minkowski::detail::default_allocator<char> >; minkowski::CoordinateMapManager<coordinate_type, coordinate_field_type, TemplatedAllocator, CoordinateMapType>::stride_type = std::vector<unsigned int, std::allocator<unsigned int> >]’:\n",
            "  /tmp/pip-req-build-yxijh0_v/src/coordinate_map_manager.cu:401:16:   required from here\n",
            "  /tmp/pip-req-build-yxijh0_v/src/coordinate_map_manager.cpp:717:260: warning: returning reference to temporary [-Wreturn-local-addr]\n",
            "  /tmp/pip-req-build-yxijh0_v/src/coordinate_map_manager.cpp: In instantiation of ‘const kernel_map_type& minkowski::CoordinateMapManager<coordinate_type, coordinate_field_type, TemplatedAllocator, CoordinateMapType>::kernel_map(const minkowski::CoordinateMapKey*, const minkowski::CoordinateMapKey*, const stride_type&, const stride_type&, const stride_type&, minkowski::RegionType::Type, const at::Tensor&, bool, bool) [with coordinate_type = int; coordinate_field_type = float; TemplatedAllocator = minkowski::detail::c10_allocator; CoordinateMapType = minkowski::CoordinateMapGPU; minkowski::CoordinateMapManager<coordinate_type, coordinate_field_type, TemplatedAllocator, CoordinateMapType>::kernel_map_type = minkowski::gpu_kernel_map<unsigned int, minkowski::detail::c10_allocator<char> >; minkowski::CoordinateMapManager<coordinate_type, coordinate_field_type, TemplatedAllocator, CoordinateMapType>::stride_type = std::vector<unsigned int, std::allocator<unsigned int> >]’:\n",
            "  /tmp/pip-req-build-yxijh0_v/src/coordinate_map_manager.cu:404:16:   required from here\n",
            "  /tmp/pip-req-build-yxijh0_v/src/coordinate_map_manager.cpp:717:260: warning: returning reference to temporary [-Wreturn-local-addr]\n",
            "  [10/21] /usr/local/cuda/bin/nvcc --generate-dependencies-with-compile --dependency-output /tmp/pip-req-build-yxijh0_v/build/temp.linux-x86_64-cpython-310/tmp/pip-req-build-yxijh0_v/src/global_pooling_gpu.o.d -I/usr/local/lib/python3.10/dist-packages/torch/include -I/usr/local/lib/python3.10/dist-packages/torch/include/torch/csrc/api/include -I/usr/local/lib/python3.10/dist-packages/torch/include/TH -I/usr/local/lib/python3.10/dist-packages/torch/include/THC -I/usr/local/cuda/include -I/tmp/pip-req-build-yxijh0_v/src -I/tmp/pip-req-build-yxijh0_v/src/3rdparty -I/usr/include/python3.10 -c -c /tmp/pip-req-build-yxijh0_v/src/global_pooling_gpu.cu -o /tmp/pip-req-build-yxijh0_v/build/temp.linux-x86_64-cpython-310/tmp/pip-req-build-yxijh0_v/src/global_pooling_gpu.o -D__CUDA_NO_HALF_OPERATORS__ -D__CUDA_NO_HALF_CONVERSIONS__ -D__CUDA_NO_BFLOAT16_CONVERSIONS__ -D__CUDA_NO_HALF2_OPERATORS__ --expt-relaxed-constexpr --compiler-options ''\"'\"'-fPIC'\"'\"'' --expt-relaxed-constexpr --expt-extended-lambda -O3 -Xcompiler=-fno-gnu-unique -DTORCH_API_INCLUDE_EXTENSION_H '-DPYBIND11_COMPILER_TYPE=\"_gcc\"' '-DPYBIND11_STDLIB=\"_libstdcpp\"' '-DPYBIND11_BUILD_ABI=\"_cxxabi1011\"' -DTORCH_EXTENSION_NAME=_C -D_GLIBCXX_USE_CXX11_ABI=0 -gencode=arch=compute_75,code=compute_75 -gencode=arch=compute_75,code=sm_75 -std=c++17\n",
            "  [11/21] /usr/local/cuda/bin/nvcc --generate-dependencies-with-compile --dependency-output /tmp/pip-req-build-yxijh0_v/build/temp.linux-x86_64-cpython-310/tmp/pip-req-build-yxijh0_v/src/interpolation_gpu.o.d -I/usr/local/lib/python3.10/dist-packages/torch/include -I/usr/local/lib/python3.10/dist-packages/torch/include/torch/csrc/api/include -I/usr/local/lib/python3.10/dist-packages/torch/include/TH -I/usr/local/lib/python3.10/dist-packages/torch/include/THC -I/usr/local/cuda/include -I/tmp/pip-req-build-yxijh0_v/src -I/tmp/pip-req-build-yxijh0_v/src/3rdparty -I/usr/include/python3.10 -c -c /tmp/pip-req-build-yxijh0_v/src/interpolation_gpu.cu -o /tmp/pip-req-build-yxijh0_v/build/temp.linux-x86_64-cpython-310/tmp/pip-req-build-yxijh0_v/src/interpolation_gpu.o -D__CUDA_NO_HALF_OPERATORS__ -D__CUDA_NO_HALF_CONVERSIONS__ -D__CUDA_NO_BFLOAT16_CONVERSIONS__ -D__CUDA_NO_HALF2_OPERATORS__ --expt-relaxed-constexpr --compiler-options ''\"'\"'-fPIC'\"'\"'' --expt-relaxed-constexpr --expt-extended-lambda -O3 -Xcompiler=-fno-gnu-unique -DTORCH_API_INCLUDE_EXTENSION_H '-DPYBIND11_COMPILER_TYPE=\"_gcc\"' '-DPYBIND11_STDLIB=\"_libstdcpp\"' '-DPYBIND11_BUILD_ABI=\"_cxxabi1011\"' -DTORCH_EXTENSION_NAME=_C -D_GLIBCXX_USE_CXX11_ABI=0 -gencode=arch=compute_75,code=compute_75 -gencode=arch=compute_75,code=sm_75 -std=c++17\n",
            "  [12/21] c++ -MMD -MF /tmp/pip-req-build-yxijh0_v/build/temp.linux-x86_64-cpython-310/tmp/pip-req-build-yxijh0_v/src/math_functions_cpu.o.d -Wno-unused-result -Wsign-compare -DNDEBUG -g -fwrapv -O2 -Wall -g -fstack-protector-strong -Wformat -Werror=format-security -g -fwrapv -O2 -fPIC -I/usr/local/lib/python3.10/dist-packages/torch/include -I/usr/local/lib/python3.10/dist-packages/torch/include/torch/csrc/api/include -I/usr/local/lib/python3.10/dist-packages/torch/include/TH -I/usr/local/lib/python3.10/dist-packages/torch/include/THC -I/usr/local/cuda/include -I/tmp/pip-req-build-yxijh0_v/src -I/tmp/pip-req-build-yxijh0_v/src/3rdparty -I/usr/include/python3.10 -c -c /tmp/pip-req-build-yxijh0_v/src/math_functions_cpu.cpp -o /tmp/pip-req-build-yxijh0_v/build/temp.linux-x86_64-cpython-310/tmp/pip-req-build-yxijh0_v/src/math_functions_cpu.o -fopenmp -O3 -DTORCH_API_INCLUDE_EXTENSION_H '-DPYBIND11_COMPILER_TYPE=\"_gcc\"' '-DPYBIND11_STDLIB=\"_libstdcpp\"' '-DPYBIND11_BUILD_ABI=\"_cxxabi1011\"' -DTORCH_EXTENSION_NAME=_C -D_GLIBCXX_USE_CXX11_ABI=0 -std=c++17\n",
            "  [13/21] /usr/local/cuda/bin/nvcc --generate-dependencies-with-compile --dependency-output /tmp/pip-req-build-yxijh0_v/build/temp.linux-x86_64-cpython-310/tmp/pip-req-build-yxijh0_v/src/local_pooling_gpu.o.d -I/usr/local/lib/python3.10/dist-packages/torch/include -I/usr/local/lib/python3.10/dist-packages/torch/include/torch/csrc/api/include -I/usr/local/lib/python3.10/dist-packages/torch/include/TH -I/usr/local/lib/python3.10/dist-packages/torch/include/THC -I/usr/local/cuda/include -I/tmp/pip-req-build-yxijh0_v/src -I/tmp/pip-req-build-yxijh0_v/src/3rdparty -I/usr/include/python3.10 -c -c /tmp/pip-req-build-yxijh0_v/src/local_pooling_gpu.cu -o /tmp/pip-req-build-yxijh0_v/build/temp.linux-x86_64-cpython-310/tmp/pip-req-build-yxijh0_v/src/local_pooling_gpu.o -D__CUDA_NO_HALF_OPERATORS__ -D__CUDA_NO_HALF_CONVERSIONS__ -D__CUDA_NO_BFLOAT16_CONVERSIONS__ -D__CUDA_NO_HALF2_OPERATORS__ --expt-relaxed-constexpr --compiler-options ''\"'\"'-fPIC'\"'\"'' --expt-relaxed-constexpr --expt-extended-lambda -O3 -Xcompiler=-fno-gnu-unique -DTORCH_API_INCLUDE_EXTENSION_H '-DPYBIND11_COMPILER_TYPE=\"_gcc\"' '-DPYBIND11_STDLIB=\"_libstdcpp\"' '-DPYBIND11_BUILD_ABI=\"_cxxabi1011\"' -DTORCH_EXTENSION_NAME=_C -D_GLIBCXX_USE_CXX11_ABI=0 -gencode=arch=compute_75,code=compute_75 -gencode=arch=compute_75,code=sm_75 -std=c++17\n",
            "  [14/21] /usr/local/cuda/bin/nvcc --generate-dependencies-with-compile --dependency-output /tmp/pip-req-build-yxijh0_v/build/temp.linux-x86_64-cpython-310/tmp/pip-req-build-yxijh0_v/src/math_functions_gpu.o.d -I/usr/local/lib/python3.10/dist-packages/torch/include -I/usr/local/lib/python3.10/dist-packages/torch/include/torch/csrc/api/include -I/usr/local/lib/python3.10/dist-packages/torch/include/TH -I/usr/local/lib/python3.10/dist-packages/torch/include/THC -I/usr/local/cuda/include -I/tmp/pip-req-build-yxijh0_v/src -I/tmp/pip-req-build-yxijh0_v/src/3rdparty -I/usr/include/python3.10 -c -c /tmp/pip-req-build-yxijh0_v/src/math_functions_gpu.cu -o /tmp/pip-req-build-yxijh0_v/build/temp.linux-x86_64-cpython-310/tmp/pip-req-build-yxijh0_v/src/math_functions_gpu.o -D__CUDA_NO_HALF_OPERATORS__ -D__CUDA_NO_HALF_CONVERSIONS__ -D__CUDA_NO_BFLOAT16_CONVERSIONS__ -D__CUDA_NO_HALF2_OPERATORS__ --expt-relaxed-constexpr --compiler-options ''\"'\"'-fPIC'\"'\"'' --expt-relaxed-constexpr --expt-extended-lambda -O3 -Xcompiler=-fno-gnu-unique -DTORCH_API_INCLUDE_EXTENSION_H '-DPYBIND11_COMPILER_TYPE=\"_gcc\"' '-DPYBIND11_STDLIB=\"_libstdcpp\"' '-DPYBIND11_BUILD_ABI=\"_cxxabi1011\"' -DTORCH_EXTENSION_NAME=_C -D_GLIBCXX_USE_CXX11_ABI=0 -gencode=arch=compute_75,code=compute_75 -gencode=arch=compute_75,code=sm_75 -std=c++17\n",
            "  /tmp/pip-req-build-yxijh0_v/src/math_functions_gpu.cu: In function ‘void minkowski::sort_coo_gpu(cusparseHandle_t, int, int, int, int*, int*, allocator_type&)’:\n",
            "  /tmp/pip-req-build-yxijh0_v/src/math_functions_gpu.cu:181:69: warning: ‘cusparseStatus_t cusparseCreateIdentityPermutation(cusparseHandle_t, int, int*)’ is deprecated: The routine will be removed in the next major release [-Wdeprecated-declarations]\n",
            "    181 |   CUSPARSE_CHECK(cusparseCreateIdentityPermutation(handle, nnz, P));\n",
            "        |                                    ~~~~~~~~~~~~~~~~~~~~~~~~~~~~~~~~~^\n",
            "  /usr/local/cuda/include/cusparse.h:4060:1: note: declared here\n",
            "   4060 | cusparseCreateIdentityPermutation(cusparseHandle_t handle,\n",
            "        | ^~~~~~~~~~~~~~~~~~~~~~~~~~~~~~~~~\n",
            "  /tmp/pip-req-build-yxijh0_v/src/math_functions_gpu.cu: In instantiation of ‘void minkowski::sort_coo_gpu(cusparseHandle_t, int, int, int, int*, int*, allocator_type&) [with allocator_type = minkowski::detail::default_allocator<char>; cusparseHandle_t = cusparseContext*]’:\n",
            "  /tmp/pip-req-build-yxijh0_v/src/math_functions_gpu.cu:189:210:   required from here\n",
            "  /tmp/pip-req-build-yxijh0_v/src/math_functions_gpu.cu:181:69: warning: ‘cusparseStatus_t cusparseCreateIdentityPermutation(cusparseHandle_t, int, int*)’ is deprecated: The routine will be removed in the next major release [-Wdeprecated-declarations]\n",
            "    181 |   CUSPARSE_CHECK(cusparseCreateIdentityPermutation(handle, nnz, P));\n",
            "        |                                    ~~~~~~~~~~~~~~~~~~~~~~~~~~~~~~~~~^\n",
            "  /usr/local/cuda/include/cusparse.h:4060:1: note: declared here\n",
            "   4060 | cusparseCreateIdentityPermutation(cusparseHandle_t handle,\n",
            "        | ^~~~~~~~~~~~~~~~~~~~~~~~~~~~~~~~~\n",
            "  /tmp/pip-req-build-yxijh0_v/src/math_functions_gpu.cu:181:69: warning: ‘cusparseStatus_t cusparseCreateIdentityPermutation(cusparseHandle_t, int, int*)’ is deprecated: The routine will be removed in the next major release [-Wdeprecated-declarations]\n",
            "    181 |   CUSPARSE_CHECK(cusparseCreateIdentityPermutation(handle, nnz, P));\n",
            "        |                                    ~~~~~~~~~~~~~~~~~~~~~~~~~~~~~~~~~^\n",
            "  /usr/local/cuda/include/cusparse.h:4060:1: note: declared here\n",
            "   4060 | cusparseCreateIdentityPermutation(cusparseHandle_t handle,\n",
            "        | ^~~~~~~~~~~~~~~~~~~~~~~~~~~~~~~~~\n",
            "  /tmp/pip-req-build-yxijh0_v/src/math_functions_gpu.cu:181:69: warning: ‘cusparseStatus_t cusparseCreateIdentityPermutation(cusparseHandle_t, int, int*)’ is deprecated: The routine will be removed in the next major release [-Wdeprecated-declarations]\n",
            "    181 |   CUSPARSE_CHECK(cusparseCreateIdentityPermutation(handle, nnz, P));\n",
            "        |                                    ~~~~~~~~~~~~~~~~~~~~~~~~~~~~~~~~~^\n",
            "  /usr/local/cuda/include/cusparse.h:4060:1: note: declared here\n",
            "   4060 | cusparseCreateIdentityPermutation(cusparseHandle_t handle,\n",
            "        | ^~~~~~~~~~~~~~~~~~~~~~~~~~~~~~~~~\n",
            "  /tmp/pip-req-build-yxijh0_v/src/math_functions_gpu.cu: In instantiation of ‘void minkowski::sort_coo_gpu(cusparseHandle_t, int, int, int, int*, int*, allocator_type&) [with allocator_type = minkowski::detail::c10_allocator<char>; cusparseHandle_t = cusparseContext*]’:\n",
            "  /tmp/pip-req-build-yxijh0_v/src/math_functions_gpu.cu:193:202:   required from here\n",
            "  /tmp/pip-req-build-yxijh0_v/src/math_functions_gpu.cu:181:69: warning: ‘cusparseStatus_t cusparseCreateIdentityPermutation(cusparseHandle_t, int, int*)’ is deprecated: The routine will be removed in the next major release [-Wdeprecated-declarations]\n",
            "    181 |   CUSPARSE_CHECK(cusparseCreateIdentityPermutation(handle, nnz, P));\n",
            "        |                                    ~~~~~~~~~~~~~~~~~~~~~~~~~~~~~~~~~^\n",
            "  /usr/local/cuda/include/cusparse.h:4060:1: note: declared here\n",
            "   4060 | cusparseCreateIdentityPermutation(cusparseHandle_t handle,\n",
            "        | ^~~~~~~~~~~~~~~~~~~~~~~~~~~~~~~~~\n",
            "  /tmp/pip-req-build-yxijh0_v/src/math_functions_gpu.cu:181:69: warning: ‘cusparseStatus_t cusparseCreateIdentityPermutation(cusparseHandle_t, int, int*)’ is deprecated: The routine will be removed in the next major release [-Wdeprecated-declarations]\n",
            "    181 |   CUSPARSE_CHECK(cusparseCreateIdentityPermutation(handle, nnz, P));\n",
            "        |                                    ~~~~~~~~~~~~~~~~~~~~~~~~~~~~~~~~~^\n",
            "  /usr/local/cuda/include/cusparse.h:4060:1: note: declared here\n",
            "   4060 | cusparseCreateIdentityPermutation(cusparseHandle_t handle,\n",
            "        | ^~~~~~~~~~~~~~~~~~~~~~~~~~~~~~~~~\n",
            "  /tmp/pip-req-build-yxijh0_v/src/math_functions_gpu.cu:181:69: warning: ‘cusparseStatus_t cusparseCreateIdentityPermutation(cusparseHandle_t, int, int*)’ is deprecated: The routine will be removed in the next major release [-Wdeprecated-declarations]\n",
            "    181 |   CUSPARSE_CHECK(cusparseCreateIdentityPermutation(handle, nnz, P));\n",
            "        |                                    ~~~~~~~~~~~~~~~~~~~~~~~~~~~~~~~~~^\n",
            "  /usr/local/cuda/include/cusparse.h:4060:1: note: declared here\n",
            "   4060 | cusparseCreateIdentityPermutation(cusparseHandle_t handle,\n",
            "        | ^~~~~~~~~~~~~~~~~~~~~~~~~~~~~~~~~\n",
            "  [15/21] /usr/local/cuda/bin/nvcc --generate-dependencies-with-compile --dependency-output /tmp/pip-req-build-yxijh0_v/build/temp.linux-x86_64-cpython-310/tmp/pip-req-build-yxijh0_v/src/pooling_avg_kernel.o.d -I/usr/local/lib/python3.10/dist-packages/torch/include -I/usr/local/lib/python3.10/dist-packages/torch/include/torch/csrc/api/include -I/usr/local/lib/python3.10/dist-packages/torch/include/TH -I/usr/local/lib/python3.10/dist-packages/torch/include/THC -I/usr/local/cuda/include -I/tmp/pip-req-build-yxijh0_v/src -I/tmp/pip-req-build-yxijh0_v/src/3rdparty -I/usr/include/python3.10 -c -c /tmp/pip-req-build-yxijh0_v/src/pooling_avg_kernel.cu -o /tmp/pip-req-build-yxijh0_v/build/temp.linux-x86_64-cpython-310/tmp/pip-req-build-yxijh0_v/src/pooling_avg_kernel.o -D__CUDA_NO_HALF_OPERATORS__ -D__CUDA_NO_HALF_CONVERSIONS__ -D__CUDA_NO_BFLOAT16_CONVERSIONS__ -D__CUDA_NO_HALF2_OPERATORS__ --expt-relaxed-constexpr --compiler-options ''\"'\"'-fPIC'\"'\"'' --expt-relaxed-constexpr --expt-extended-lambda -O3 -Xcompiler=-fno-gnu-unique -DTORCH_API_INCLUDE_EXTENSION_H '-DPYBIND11_COMPILER_TYPE=\"_gcc\"' '-DPYBIND11_STDLIB=\"_libstdcpp\"' '-DPYBIND11_BUILD_ABI=\"_cxxabi1011\"' -DTORCH_EXTENSION_NAME=_C -D_GLIBCXX_USE_CXX11_ABI=0 -gencode=arch=compute_75,code=compute_75 -gencode=arch=compute_75,code=sm_75 -std=c++17\n",
            "  [16/21] /usr/local/cuda/bin/nvcc --generate-dependencies-with-compile --dependency-output /tmp/pip-req-build-yxijh0_v/build/temp.linux-x86_64-cpython-310/tmp/pip-req-build-yxijh0_v/src/local_pooling_transpose_gpu.o.d -I/usr/local/lib/python3.10/dist-packages/torch/include -I/usr/local/lib/python3.10/dist-packages/torch/include/torch/csrc/api/include -I/usr/local/lib/python3.10/dist-packages/torch/include/TH -I/usr/local/lib/python3.10/dist-packages/torch/include/THC -I/usr/local/cuda/include -I/tmp/pip-req-build-yxijh0_v/src -I/tmp/pip-req-build-yxijh0_v/src/3rdparty -I/usr/include/python3.10 -c -c /tmp/pip-req-build-yxijh0_v/src/local_pooling_transpose_gpu.cu -o /tmp/pip-req-build-yxijh0_v/build/temp.linux-x86_64-cpython-310/tmp/pip-req-build-yxijh0_v/src/local_pooling_transpose_gpu.o -D__CUDA_NO_HALF_OPERATORS__ -D__CUDA_NO_HALF_CONVERSIONS__ -D__CUDA_NO_BFLOAT16_CONVERSIONS__ -D__CUDA_NO_HALF2_OPERATORS__ --expt-relaxed-constexpr --compiler-options ''\"'\"'-fPIC'\"'\"'' --expt-relaxed-constexpr --expt-extended-lambda -O3 -Xcompiler=-fno-gnu-unique -DTORCH_API_INCLUDE_EXTENSION_H '-DPYBIND11_COMPILER_TYPE=\"_gcc\"' '-DPYBIND11_STDLIB=\"_libstdcpp\"' '-DPYBIND11_BUILD_ABI=\"_cxxabi1011\"' -DTORCH_EXTENSION_NAME=_C -D_GLIBCXX_USE_CXX11_ABI=0 -gencode=arch=compute_75,code=compute_75 -gencode=arch=compute_75,code=sm_75 -std=c++17\n",
            "  [17/21] /usr/local/cuda/bin/nvcc --generate-dependencies-with-compile --dependency-output /tmp/pip-req-build-yxijh0_v/build/temp.linux-x86_64-cpython-310/tmp/pip-req-build-yxijh0_v/src/pooling_max_kernel.o.d -I/usr/local/lib/python3.10/dist-packages/torch/include -I/usr/local/lib/python3.10/dist-packages/torch/include/torch/csrc/api/include -I/usr/local/lib/python3.10/dist-packages/torch/include/TH -I/usr/local/lib/python3.10/dist-packages/torch/include/THC -I/usr/local/cuda/include -I/tmp/pip-req-build-yxijh0_v/src -I/tmp/pip-req-build-yxijh0_v/src/3rdparty -I/usr/include/python3.10 -c -c /tmp/pip-req-build-yxijh0_v/src/pooling_max_kernel.cu -o /tmp/pip-req-build-yxijh0_v/build/temp.linux-x86_64-cpython-310/tmp/pip-req-build-yxijh0_v/src/pooling_max_kernel.o -D__CUDA_NO_HALF_OPERATORS__ -D__CUDA_NO_HALF_CONVERSIONS__ -D__CUDA_NO_BFLOAT16_CONVERSIONS__ -D__CUDA_NO_HALF2_OPERATORS__ --expt-relaxed-constexpr --compiler-options ''\"'\"'-fPIC'\"'\"'' --expt-relaxed-constexpr --expt-extended-lambda -O3 -Xcompiler=-fno-gnu-unique -DTORCH_API_INCLUDE_EXTENSION_H '-DPYBIND11_COMPILER_TYPE=\"_gcc\"' '-DPYBIND11_STDLIB=\"_libstdcpp\"' '-DPYBIND11_BUILD_ABI=\"_cxxabi1011\"' -DTORCH_EXTENSION_NAME=_C -D_GLIBCXX_USE_CXX11_ABI=0 -gencode=arch=compute_75,code=compute_75 -gencode=arch=compute_75,code=sm_75 -std=c++17\n",
            "  [18/21] c++ -MMD -MF /tmp/pip-req-build-yxijh0_v/build/temp.linux-x86_64-cpython-310/tmp/pip-req-build-yxijh0_v/src/quantization.o.d -Wno-unused-result -Wsign-compare -DNDEBUG -g -fwrapv -O2 -Wall -g -fstack-protector-strong -Wformat -Werror=format-security -g -fwrapv -O2 -fPIC -I/usr/local/lib/python3.10/dist-packages/torch/include -I/usr/local/lib/python3.10/dist-packages/torch/include/torch/csrc/api/include -I/usr/local/lib/python3.10/dist-packages/torch/include/TH -I/usr/local/lib/python3.10/dist-packages/torch/include/THC -I/usr/local/cuda/include -I/tmp/pip-req-build-yxijh0_v/src -I/tmp/pip-req-build-yxijh0_v/src/3rdparty -I/usr/include/python3.10 -c -c /tmp/pip-req-build-yxijh0_v/src/quantization.cpp -o /tmp/pip-req-build-yxijh0_v/build/temp.linux-x86_64-cpython-310/tmp/pip-req-build-yxijh0_v/src/quantization.o -fopenmp -O3 -DTORCH_API_INCLUDE_EXTENSION_H '-DPYBIND11_COMPILER_TYPE=\"_gcc\"' '-DPYBIND11_STDLIB=\"_libstdcpp\"' '-DPYBIND11_BUILD_ABI=\"_cxxabi1011\"' -DTORCH_EXTENSION_NAME=_C -D_GLIBCXX_USE_CXX11_ABI=0 -std=c++17\n",
            "  In file included from /tmp/pip-req-build-yxijh0_v/src/allocators.cuh:39,\n",
            "                   from /tmp/pip-req-build-yxijh0_v/src/kernel_region.hpp:40,\n",
            "                   from /tmp/pip-req-build-yxijh0_v/src/coordinate_map.hpp:30,\n",
            "                   from /tmp/pip-req-build-yxijh0_v/src/coordinate_map_cpu.hpp:28,\n",
            "                   from /tmp/pip-req-build-yxijh0_v/src/quantization.cpp:32:\n",
            "  /tmp/pip-req-build-yxijh0_v/src/gpu.cuh:149: warning: \"THRUST_CHECK\" redefined\n",
            "    149 | #define THRUST_CHECK(condition)                                                \\\n",
            "        |\n",
            "  In file included from /tmp/pip-req-build-yxijh0_v/src/coordinate.hpp:30,\n",
            "                   from /tmp/pip-req-build-yxijh0_v/src/coordinate_map.hpp:29,\n",
            "                   from /tmp/pip-req-build-yxijh0_v/src/coordinate_map_cpu.hpp:28,\n",
            "                   from /tmp/pip-req-build-yxijh0_v/src/quantization.cpp:32:\n",
            "  /tmp/pip-req-build-yxijh0_v/src/utils.hpp:169: note: this is the location of the previous definition\n",
            "    169 | #define THRUST_CHECK(condition) condition;\n",
            "        |\n",
            "  /tmp/pip-req-build-yxijh0_v/src/quantization.cpp: In function ‘std::vector<std::vector<int> > minkowski::quantize_label(const int*, const int*, int, int, int)’:\n",
            "  /tmp/pip-req-build-yxijh0_v/src/quantization.cpp:177:16: warning: variable ‘it’ set but not used [-Wunused-but-set-variable]\n",
            "    177 |     const auto it = map.find(key);\n",
            "        |                ^~\n",
            "  [19/21] /usr/local/cuda/bin/nvcc --generate-dependencies-with-compile --dependency-output /tmp/pip-req-build-yxijh0_v/build/temp.linux-x86_64-cpython-310/tmp/pip-req-build-yxijh0_v/src/pruning_gpu.o.d -I/usr/local/lib/python3.10/dist-packages/torch/include -I/usr/local/lib/python3.10/dist-packages/torch/include/torch/csrc/api/include -I/usr/local/lib/python3.10/dist-packages/torch/include/TH -I/usr/local/lib/python3.10/dist-packages/torch/include/THC -I/usr/local/cuda/include -I/tmp/pip-req-build-yxijh0_v/src -I/tmp/pip-req-build-yxijh0_v/src/3rdparty -I/usr/include/python3.10 -c -c /tmp/pip-req-build-yxijh0_v/src/pruning_gpu.cu -o /tmp/pip-req-build-yxijh0_v/build/temp.linux-x86_64-cpython-310/tmp/pip-req-build-yxijh0_v/src/pruning_gpu.o -D__CUDA_NO_HALF_OPERATORS__ -D__CUDA_NO_HALF_CONVERSIONS__ -D__CUDA_NO_BFLOAT16_CONVERSIONS__ -D__CUDA_NO_HALF2_OPERATORS__ --expt-relaxed-constexpr --compiler-options ''\"'\"'-fPIC'\"'\"'' --expt-relaxed-constexpr --expt-extended-lambda -O3 -Xcompiler=-fno-gnu-unique -DTORCH_API_INCLUDE_EXTENSION_H '-DPYBIND11_COMPILER_TYPE=\"_gcc\"' '-DPYBIND11_STDLIB=\"_libstdcpp\"' '-DPYBIND11_BUILD_ABI=\"_cxxabi1011\"' -DTORCH_EXTENSION_NAME=_C -D_GLIBCXX_USE_CXX11_ABI=0 -gencode=arch=compute_75,code=compute_75 -gencode=arch=compute_75,code=sm_75 -std=c++17\n",
            "  [20/21] /usr/local/cuda/bin/nvcc --generate-dependencies-with-compile --dependency-output /tmp/pip-req-build-yxijh0_v/build/temp.linux-x86_64-cpython-310/tmp/pip-req-build-yxijh0_v/src/spmm.o.d -I/usr/local/lib/python3.10/dist-packages/torch/include -I/usr/local/lib/python3.10/dist-packages/torch/include/torch/csrc/api/include -I/usr/local/lib/python3.10/dist-packages/torch/include/TH -I/usr/local/lib/python3.10/dist-packages/torch/include/THC -I/usr/local/cuda/include -I/tmp/pip-req-build-yxijh0_v/src -I/tmp/pip-req-build-yxijh0_v/src/3rdparty -I/usr/include/python3.10 -c -c /tmp/pip-req-build-yxijh0_v/src/spmm.cu -o /tmp/pip-req-build-yxijh0_v/build/temp.linux-x86_64-cpython-310/tmp/pip-req-build-yxijh0_v/src/spmm.o -D__CUDA_NO_HALF_OPERATORS__ -D__CUDA_NO_HALF_CONVERSIONS__ -D__CUDA_NO_BFLOAT16_CONVERSIONS__ -D__CUDA_NO_HALF2_OPERATORS__ --expt-relaxed-constexpr --compiler-options ''\"'\"'-fPIC'\"'\"'' --expt-relaxed-constexpr --expt-extended-lambda -O3 -Xcompiler=-fno-gnu-unique -DTORCH_API_INCLUDE_EXTENSION_H '-DPYBIND11_COMPILER_TYPE=\"_gcc\"' '-DPYBIND11_STDLIB=\"_libstdcpp\"' '-DPYBIND11_BUILD_ABI=\"_cxxabi1011\"' -DTORCH_EXTENSION_NAME=_C -D_GLIBCXX_USE_CXX11_ABI=0 -gencode=arch=compute_75,code=compute_75 -gencode=arch=compute_75,code=sm_75 -std=c++17\n",
            "  /tmp/pip-req-build-yxijh0_v/src/spmm.cu(95): warning #177-D: variable \"is_int64\" was declared but never referenced\n",
            "      constexpr bool is_int64 = std::is_same<th_int_type, int64_t>::value;\n",
            "                     ^\n",
            "\n",
            "  Remark: The warnings can be suppressed with \"-diag-suppress <warning-number>\"\n",
            "\n",
            "  /tmp/pip-req-build-yxijh0_v/src/spmm.cu(357): warning #177-D: variable \"is_int64\" was declared but never referenced\n",
            "      constexpr bool is_int64 = std::is_same<th_int_type, int64_t>::value;\n",
            "                     ^\n",
            "\n",
            "  [21/21] /usr/local/cuda/bin/nvcc --generate-dependencies-with-compile --dependency-output /tmp/pip-req-build-yxijh0_v/build/temp.linux-x86_64-cpython-310/pybind/minkowski.o.d -I/usr/local/lib/python3.10/dist-packages/torch/include -I/usr/local/lib/python3.10/dist-packages/torch/include/torch/csrc/api/include -I/usr/local/lib/python3.10/dist-packages/torch/include/TH -I/usr/local/lib/python3.10/dist-packages/torch/include/THC -I/usr/local/cuda/include -I/tmp/pip-req-build-yxijh0_v/src -I/tmp/pip-req-build-yxijh0_v/src/3rdparty -I/usr/include/python3.10 -c -c /tmp/pip-req-build-yxijh0_v/pybind/minkowski.cu -o /tmp/pip-req-build-yxijh0_v/build/temp.linux-x86_64-cpython-310/pybind/minkowski.o -D__CUDA_NO_HALF_OPERATORS__ -D__CUDA_NO_HALF_CONVERSIONS__ -D__CUDA_NO_BFLOAT16_CONVERSIONS__ -D__CUDA_NO_HALF2_OPERATORS__ --expt-relaxed-constexpr --compiler-options ''\"'\"'-fPIC'\"'\"'' --expt-relaxed-constexpr --expt-extended-lambda -O3 -Xcompiler=-fno-gnu-unique -DTORCH_API_INCLUDE_EXTENSION_H '-DPYBIND11_COMPILER_TYPE=\"_gcc\"' '-DPYBIND11_STDLIB=\"_libstdcpp\"' '-DPYBIND11_BUILD_ABI=\"_cxxabi1011\"' -DTORCH_EXTENSION_NAME=_C -D_GLIBCXX_USE_CXX11_ABI=0 -gencode=arch=compute_75,code=compute_75 -gencode=arch=compute_75,code=sm_75 -std=c++17\n",
            "  creating build/lib.linux-x86_64-cpython-310/MinkowskiEngineBackend\n",
            "  INFO: x86_64-linux-gnu-g++ -shared -Wl,-O1 -Wl,-Bsymbolic-functions -Wl,-Bsymbolic-functions -g -fwrapv -O2 /tmp/pip-req-build-yxijh0_v/build/temp.linux-x86_64-cpython-310/tmp/pip-req-build-yxijh0_v/src/broadcast_gpu.o /tmp/pip-req-build-yxijh0_v/build/temp.linux-x86_64-cpython-310/tmp/pip-req-build-yxijh0_v/src/broadcast_kernel.o /tmp/pip-req-build-yxijh0_v/build/temp.linux-x86_64-cpython-310/tmp/pip-req-build-yxijh0_v/src/convolution_gpu.o /tmp/pip-req-build-yxijh0_v/build/temp.linux-x86_64-cpython-310/tmp/pip-req-build-yxijh0_v/src/convolution_kernel.o /tmp/pip-req-build-yxijh0_v/build/temp.linux-x86_64-cpython-310/tmp/pip-req-build-yxijh0_v/src/convolution_transpose_gpu.o /tmp/pip-req-build-yxijh0_v/build/temp.linux-x86_64-cpython-310/tmp/pip-req-build-yxijh0_v/src/coordinate_map_gpu.o /tmp/pip-req-build-yxijh0_v/build/temp.linux-x86_64-cpython-310/tmp/pip-req-build-yxijh0_v/src/coordinate_map_manager.o /tmp/pip-req-build-yxijh0_v/build/temp.linux-x86_64-cpython-310/tmp/pip-req-build-yxijh0_v/src/direct_max_pool.o /tmp/pip-req-build-yxijh0_v/build/temp.linux-x86_64-cpython-310/tmp/pip-req-build-yxijh0_v/src/global_pooling_gpu.o /tmp/pip-req-build-yxijh0_v/build/temp.linux-x86_64-cpython-310/tmp/pip-req-build-yxijh0_v/src/gpu.o /tmp/pip-req-build-yxijh0_v/build/temp.linux-x86_64-cpython-310/tmp/pip-req-build-yxijh0_v/src/interpolation_gpu.o /tmp/pip-req-build-yxijh0_v/build/temp.linux-x86_64-cpython-310/tmp/pip-req-build-yxijh0_v/src/local_pooling_gpu.o /tmp/pip-req-build-yxijh0_v/build/temp.linux-x86_64-cpython-310/tmp/pip-req-build-yxijh0_v/src/local_pooling_transpose_gpu.o /tmp/pip-req-build-yxijh0_v/build/temp.linux-x86_64-cpython-310/tmp/pip-req-build-yxijh0_v/src/math_functions_cpu.o /tmp/pip-req-build-yxijh0_v/build/temp.linux-x86_64-cpython-310/tmp/pip-req-build-yxijh0_v/src/math_functions_gpu.o /tmp/pip-req-build-yxijh0_v/build/temp.linux-x86_64-cpython-310/tmp/pip-req-build-yxijh0_v/src/pooling_avg_kernel.o /tmp/pip-req-build-yxijh0_v/build/temp.linux-x86_64-cpython-310/tmp/pip-req-build-yxijh0_v/src/pooling_max_kernel.o /tmp/pip-req-build-yxijh0_v/build/temp.linux-x86_64-cpython-310/tmp/pip-req-build-yxijh0_v/src/pruning_gpu.o /tmp/pip-req-build-yxijh0_v/build/temp.linux-x86_64-cpython-310/tmp/pip-req-build-yxijh0_v/src/quantization.o /tmp/pip-req-build-yxijh0_v/build/temp.linux-x86_64-cpython-310/tmp/pip-req-build-yxijh0_v/src/spmm.o /tmp/pip-req-build-yxijh0_v/build/temp.linux-x86_64-cpython-310/pybind/minkowski.o -L/usr/local/lib/python3.10/dist-packages/torch/lib -L/usr/local/cuda/lib64 -L/usr/lib/x86_64-linux-gnu -lcusparse -lopenblas -lopenblas -lc10 -ltorch -ltorch_cpu -ltorch_python -lcudart -lc10_cuda -ltorch_cuda -o build/lib.linux-x86_64-cpython-310/MinkowskiEngineBackend/_C.cpython-310-x86_64-linux-gnu.so\n",
            "  /usr/local/lib/python3.10/dist-packages/setuptools/_distutils/cmd.py:66: SetuptoolsDeprecationWarning: setup.py install is deprecated.\n",
            "  !!\n",
            "\n",
            "          ********************************************************************************\n",
            "          Please avoid running ``setup.py`` directly.\n",
            "          Instead, use pypa/build, pypa/installer, pypa/build or\n",
            "          other standards-based tools.\n",
            "\n",
            "          See https://blog.ganssle.io/articles/2021/10/setup-py-deprecated.html for details.\n",
            "          ********************************************************************************\n",
            "\n",
            "  !!\n",
            "    self.initialize_options()\n",
            "  installing to build/bdist.linux-x86_64/wheel\n",
            "  running install\n",
            "  running install_lib\n",
            "  creating build/bdist.linux-x86_64\n",
            "  creating build/bdist.linux-x86_64/wheel\n",
            "  creating build/bdist.linux-x86_64/wheel/MinkowskiEngineBackend\n",
            "  copying build/lib.linux-x86_64-cpython-310/MinkowskiEngineBackend/_C.cpython-310-x86_64-linux-gnu.so -> build/bdist.linux-x86_64/wheel/MinkowskiEngineBackend\n",
            "  creating build/bdist.linux-x86_64/wheel/MinkowskiEngine\n",
            "  copying build/lib.linux-x86_64-cpython-310/MinkowskiEngine/MinkowskiTensorField.py -> build/bdist.linux-x86_64/wheel/MinkowskiEngine\n",
            "  copying build/lib.linux-x86_64-cpython-310/MinkowskiEngine/MinkowskiUnion.py -> build/bdist.linux-x86_64/wheel/MinkowskiEngine\n",
            "  creating build/bdist.linux-x86_64/wheel/MinkowskiEngine/modules\n",
            "  copying build/lib.linux-x86_64-cpython-310/MinkowskiEngine/modules/__init__.py -> build/bdist.linux-x86_64/wheel/MinkowskiEngine/modules\n",
            "  copying build/lib.linux-x86_64-cpython-310/MinkowskiEngine/modules/senet_block.py -> build/bdist.linux-x86_64/wheel/MinkowskiEngine/modules\n",
            "  copying build/lib.linux-x86_64-cpython-310/MinkowskiEngine/modules/resnet_block.py -> build/bdist.linux-x86_64/wheel/MinkowskiEngine/modules\n",
            "  copying build/lib.linux-x86_64-cpython-310/MinkowskiEngine/__init__.py -> build/bdist.linux-x86_64/wheel/MinkowskiEngine\n",
            "  copying build/lib.linux-x86_64-cpython-310/MinkowskiEngine/MinkowskiConvolution.py -> build/bdist.linux-x86_64/wheel/MinkowskiEngine\n",
            "  copying build/lib.linux-x86_64-cpython-310/MinkowskiEngine/MinkowskiTensor.py -> build/bdist.linux-x86_64/wheel/MinkowskiEngine\n",
            "  copying build/lib.linux-x86_64-cpython-310/MinkowskiEngine/MinkowskiInterpolation.py -> build/bdist.linux-x86_64/wheel/MinkowskiEngine\n",
            "  copying build/lib.linux-x86_64-cpython-310/MinkowskiEngine/MinkowskiChannelwiseConvolution.py -> build/bdist.linux-x86_64/wheel/MinkowskiEngine\n",
            "  creating build/bdist.linux-x86_64/wheel/MinkowskiEngine/utils\n",
            "  copying build/lib.linux-x86_64-cpython-310/MinkowskiEngine/utils/summary.py -> build/bdist.linux-x86_64/wheel/MinkowskiEngine/utils\n",
            "  copying build/lib.linux-x86_64-cpython-310/MinkowskiEngine/utils/__init__.py -> build/bdist.linux-x86_64/wheel/MinkowskiEngine/utils\n",
            "  copying build/lib.linux-x86_64-cpython-310/MinkowskiEngine/utils/init.py -> build/bdist.linux-x86_64/wheel/MinkowskiEngine/utils\n",
            "  copying build/lib.linux-x86_64-cpython-310/MinkowskiEngine/utils/coords.py -> build/bdist.linux-x86_64/wheel/MinkowskiEngine/utils\n",
            "  copying build/lib.linux-x86_64-cpython-310/MinkowskiEngine/utils/collation.py -> build/bdist.linux-x86_64/wheel/MinkowskiEngine/utils\n",
            "  copying build/lib.linux-x86_64-cpython-310/MinkowskiEngine/utils/gradcheck.py -> build/bdist.linux-x86_64/wheel/MinkowskiEngine/utils\n",
            "  copying build/lib.linux-x86_64-cpython-310/MinkowskiEngine/utils/quantization.py -> build/bdist.linux-x86_64/wheel/MinkowskiEngine/utils\n",
            "  copying build/lib.linux-x86_64-cpython-310/MinkowskiEngine/MinkowskiOps.py -> build/bdist.linux-x86_64/wheel/MinkowskiEngine\n",
            "  copying build/lib.linux-x86_64-cpython-310/MinkowskiEngine/MinkowskiCoordinateManager.py -> build/bdist.linux-x86_64/wheel/MinkowskiEngine\n",
            "  copying build/lib.linux-x86_64-cpython-310/MinkowskiEngine/MinkowskiSparseTensor.py -> build/bdist.linux-x86_64/wheel/MinkowskiEngine\n",
            "  copying build/lib.linux-x86_64-cpython-310/MinkowskiEngine/sparse_matrix_functions.py -> build/bdist.linux-x86_64/wheel/MinkowskiEngine\n",
            "  copying build/lib.linux-x86_64-cpython-310/MinkowskiEngine/MinkowskiKernelGenerator.py -> build/bdist.linux-x86_64/wheel/MinkowskiEngine\n",
            "  copying build/lib.linux-x86_64-cpython-310/MinkowskiEngine/MinkowskiPooling.py -> build/bdist.linux-x86_64/wheel/MinkowskiEngine\n",
            "  copying build/lib.linux-x86_64-cpython-310/MinkowskiEngine/MinkowskiCommon.py -> build/bdist.linux-x86_64/wheel/MinkowskiEngine\n",
            "  copying build/lib.linux-x86_64-cpython-310/MinkowskiEngine/MinkowskiNetwork.py -> build/bdist.linux-x86_64/wheel/MinkowskiEngine\n",
            "  copying build/lib.linux-x86_64-cpython-310/MinkowskiEngine/MinkowskiFunctional.py -> build/bdist.linux-x86_64/wheel/MinkowskiEngine\n",
            "  copying build/lib.linux-x86_64-cpython-310/MinkowskiEngine/MinkowskiBroadcast.py -> build/bdist.linux-x86_64/wheel/MinkowskiEngine\n",
            "  copying build/lib.linux-x86_64-cpython-310/MinkowskiEngine/MinkowskiNormalization.py -> build/bdist.linux-x86_64/wheel/MinkowskiEngine\n",
            "  copying build/lib.linux-x86_64-cpython-310/MinkowskiEngine/diagnostics.py -> build/bdist.linux-x86_64/wheel/MinkowskiEngine\n",
            "  copying build/lib.linux-x86_64-cpython-310/MinkowskiEngine/MinkowskiPruning.py -> build/bdist.linux-x86_64/wheel/MinkowskiEngine\n",
            "  copying build/lib.linux-x86_64-cpython-310/MinkowskiEngine/MinkowskiNonlinearity.py -> build/bdist.linux-x86_64/wheel/MinkowskiEngine\n",
            "  running install_egg_info\n",
            "  running egg_info\n",
            "  creating MinkowskiEngine.egg-info\n",
            "  writing MinkowskiEngine.egg-info/PKG-INFO\n",
            "  writing dependency_links to MinkowskiEngine.egg-info/dependency_links.txt\n",
            "  writing requirements to MinkowskiEngine.egg-info/requires.txt\n",
            "  writing top-level names to MinkowskiEngine.egg-info/top_level.txt\n",
            "  writing manifest file 'MinkowskiEngine.egg-info/SOURCES.txt'\n",
            "  reading manifest file 'MinkowskiEngine.egg-info/SOURCES.txt'\n",
            "  reading manifest template 'MANIFEST.in'\n",
            "  adding license file 'LICENSE'\n",
            "  writing manifest file 'MinkowskiEngine.egg-info/SOURCES.txt'\n",
            "  Copying MinkowskiEngine.egg-info to build/bdist.linux-x86_64/wheel/MinkowskiEngine-0.5.4-py3.10.egg-info\n",
            "  running install_scripts\n",
            "  creating build/bdist.linux-x86_64/wheel/MinkowskiEngine-0.5.4.dist-info/WHEEL\n",
            "  creating '/tmp/pip-wheel-tzxnkb0l/MinkowskiEngine-0.5.4-cp310-cp310-linux_x86_64.whl' and adding 'build/bdist.linux-x86_64/wheel' to it\n",
            "  adding 'MinkowskiEngine/MinkowskiBroadcast.py'\n",
            "  adding 'MinkowskiEngine/MinkowskiChannelwiseConvolution.py'\n",
            "  adding 'MinkowskiEngine/MinkowskiCommon.py'\n",
            "  adding 'MinkowskiEngine/MinkowskiConvolution.py'\n",
            "  adding 'MinkowskiEngine/MinkowskiCoordinateManager.py'\n",
            "  adding 'MinkowskiEngine/MinkowskiFunctional.py'\n",
            "  adding 'MinkowskiEngine/MinkowskiInterpolation.py'\n",
            "  adding 'MinkowskiEngine/MinkowskiKernelGenerator.py'\n",
            "  adding 'MinkowskiEngine/MinkowskiNetwork.py'\n",
            "  adding 'MinkowskiEngine/MinkowskiNonlinearity.py'\n",
            "  adding 'MinkowskiEngine/MinkowskiNormalization.py'\n",
            "  adding 'MinkowskiEngine/MinkowskiOps.py'\n",
            "  adding 'MinkowskiEngine/MinkowskiPooling.py'\n",
            "  adding 'MinkowskiEngine/MinkowskiPruning.py'\n",
            "  adding 'MinkowskiEngine/MinkowskiSparseTensor.py'\n",
            "  adding 'MinkowskiEngine/MinkowskiTensor.py'\n",
            "  adding 'MinkowskiEngine/MinkowskiTensorField.py'\n",
            "  adding 'MinkowskiEngine/MinkowskiUnion.py'\n",
            "  adding 'MinkowskiEngine/__init__.py'\n",
            "  adding 'MinkowskiEngine/diagnostics.py'\n",
            "  adding 'MinkowskiEngine/sparse_matrix_functions.py'\n",
            "  adding 'MinkowskiEngine/modules/__init__.py'\n",
            "  adding 'MinkowskiEngine/modules/resnet_block.py'\n",
            "  adding 'MinkowskiEngine/modules/senet_block.py'\n",
            "  adding 'MinkowskiEngine/utils/__init__.py'\n",
            "  adding 'MinkowskiEngine/utils/collation.py'\n",
            "  adding 'MinkowskiEngine/utils/coords.py'\n",
            "  adding 'MinkowskiEngine/utils/gradcheck.py'\n",
            "  adding 'MinkowskiEngine/utils/init.py'\n",
            "  adding 'MinkowskiEngine/utils/quantization.py'\n",
            "  adding 'MinkowskiEngine/utils/summary.py'\n",
            "  adding 'MinkowskiEngineBackend/_C.cpython-310-x86_64-linux-gnu.so'\n",
            "  adding 'MinkowskiEngine-0.5.4.dist-info/LICENSE'\n",
            "  adding 'MinkowskiEngine-0.5.4.dist-info/METADATA'\n",
            "  adding 'MinkowskiEngine-0.5.4.dist-info/WHEEL'\n",
            "  adding 'MinkowskiEngine-0.5.4.dist-info/top_level.txt'\n",
            "  adding 'MinkowskiEngine-0.5.4.dist-info/RECORD'\n",
            "  removing build/bdist.linux-x86_64/wheel\n",
            "  Building wheel for MinkowskiEngine (setup.py) ... \u001b[?25l\u001b[?25hdone\n",
            "  Created wheel for MinkowskiEngine: filename=MinkowskiEngine-0.5.4-cp310-cp310-linux_x86_64.whl size=8634004 sha256=e24890b071450765f9249eb3d362bb4d746035e6e22516014b8bd793f29ff909\n",
            "  Stored in directory: /tmp/pip-ephem-wheel-cache-7pjti21i/wheels/93/82/00/c708764503c073bd0972b9527256f844fcc04dcea8b4ef5ea4\n",
            "Successfully built MinkowskiEngine\n",
            "Installing collected packages: MinkowskiEngine\n",
            "Successfully installed MinkowskiEngine-0.5.4\n"
          ]
        }
      ],
      "source": [
        "!pip install -U git+https://github.com/richlukich/MinkowskiEngine -v --no-deps \\\n",
        "                          --config-settings=\"--install-option=--force_cuda\" \\\n",
        "                          --config-settings=\"--install-option=--blas=openblas\""
      ]
    },
    {
      "cell_type": "markdown",
      "metadata": {
        "id": "gMU7PJ_LUzIs"
      },
      "source": [
        "4. Проверка, что все работает"
      ]
    },
    {
      "cell_type": "code",
      "execution_count": null,
      "metadata": {
        "id": "FMxMN0OeUyU-"
      },
      "outputs": [],
      "source": [
        "import torch\n",
        "print(f\"Is CUDA available in torch?: {torch.cuda.is_available()}\")\n",
        "import MinkowskiEngine as ME\n",
        "print(f\"Is CUDA available in MinkowskiEngine?: {ME.is_cuda_available()}\")\n",
        "ME.print_diagnostics()"
      ]
    },
    {
      "cell_type": "markdown",
      "metadata": {
        "id": "uFubPmYLU8SX"
      },
      "source": [
        "5. Финальный шаг - установка библиотеки [opr](https://github.com/alexmelekhin/open_place_recognition), код из которой будет использоваться в бейзлайне"
      ]
    },
    {
      "cell_type": "code",
      "execution_count": null,
      "metadata": {
        "colab": {
          "base_uri": "https://localhost:8080/",
          "height": 1000
        },
        "id": "vLTo1C7zc1Yl",
        "outputId": "5f85dff0-279b-4108-9664-438ad9cbc2f3"
      },
      "outputs": [
        {
          "name": "stdout",
          "output_type": "stream",
          "text": [
            "Cloning into 'open_place_recognition'...\n",
            "remote: Enumerating objects: 1417, done.\u001b[K\n",
            "remote: Counting objects: 100% (646/646), done.\u001b[K\n",
            "remote: Compressing objects: 100% (270/270), done.\u001b[K\n",
            "remote: Total 1417 (delta 441), reused 461 (delta 363), pack-reused 771\u001b[K\n",
            "Receiving objects: 100% (1417/1417), 22.87 MiB | 11.37 MiB/s, done.\n",
            "Resolving deltas: 100% (813/813), done.\n",
            "/content/open_place_recognition\n",
            "Obtaining file:///content/open_place_recognition\n",
            "  Installing build dependencies ... \u001b[?25l\u001b[?25hdone\n",
            "  Checking if build backend supports build_editable ... \u001b[?25l\u001b[?25hdone\n",
            "  Getting requirements to build editable ... \u001b[?25l\u001b[?25hdone\n",
            "  Preparing editable metadata (pyproject.toml) ... \u001b[?25l\u001b[?25hdone\n",
            "Requirement already satisfied: albumentations in /usr/local/lib/python3.10/dist-packages (from opr==0.2.1) (1.3.1)\n",
            "Collecting hydra-core>=1.2 (from opr==0.2.1)\n",
            "  Downloading hydra_core-1.3.2-py3-none-any.whl (154 kB)\n",
            "\u001b[2K     \u001b[90m━━━━━━━━━━━━━━━━━━━━━━━━━━━━━━━━━━━━━━━━\u001b[0m \u001b[32m154.5/154.5 kB\u001b[0m \u001b[31m3.2 MB/s\u001b[0m eta \u001b[36m0:00:00\u001b[0m\n",
            "\u001b[?25hCollecting kaleido (from opr==0.2.1)\n",
            "  Downloading kaleido-0.2.1-py2.py3-none-manylinux1_x86_64.whl (79.9 MB)\n",
            "\u001b[2K     \u001b[90m━━━━━━━━━━━━━━━━━━━━━━━━━━━━━━━━━━━━━━━━\u001b[0m \u001b[32m79.9/79.9 MB\u001b[0m \u001b[31m9.4 MB/s\u001b[0m eta \u001b[36m0:00:00\u001b[0m\n",
            "\u001b[?25hRequirement already satisfied: matplotlib in /usr/local/lib/python3.10/dist-packages (from opr==0.2.1) (3.7.1)\n",
            "Requirement already satisfied: numpy in /usr/local/lib/python3.10/dist-packages (from opr==0.2.1) (1.25.2)\n",
            "Requirement already satisfied: opencv-python in /usr/local/lib/python3.10/dist-packages (from opr==0.2.1) (4.8.0.76)\n",
            "Requirement already satisfied: pandas in /usr/local/lib/python3.10/dist-packages (from opr==0.2.1) (2.0.3)\n",
            "Requirement already satisfied: plotly>=5.14.1 in /usr/local/lib/python3.10/dist-packages (from opr==0.2.1) (5.15.0)\n",
            "Collecting pytorch-metric-learning (from opr==0.2.1)\n",
            "  Downloading pytorch_metric_learning-2.5.0-py3-none-any.whl (119 kB)\n",
            "\u001b[2K     \u001b[90m━━━━━━━━━━━━━━━━━━━━━━━━━━━━━━━━━━━━━━━━\u001b[0m \u001b[32m119.1/119.1 kB\u001b[0m \u001b[31m14.7 MB/s\u001b[0m eta \u001b[36m0:00:00\u001b[0m\n",
            "\u001b[?25hRequirement already satisfied: requests>=2.31.0 in /usr/local/lib/python3.10/dist-packages (from opr==0.2.1) (2.31.0)\n",
            "Requirement already satisfied: scipy in /usr/local/lib/python3.10/dist-packages (from opr==0.2.1) (1.11.4)\n",
            "Requirement already satisfied: tqdm in /usr/local/lib/python3.10/dist-packages (from opr==0.2.1) (4.66.4)\n",
            "Collecting wandb (from opr==0.2.1)\n",
            "  Downloading wandb-0.17.3-py3-none-manylinux_2_5_x86_64.manylinux1_x86_64.manylinux_2_17_x86_64.manylinux2014_x86_64.whl (6.9 MB)\n",
            "\u001b[2K     \u001b[90m━━━━━━━━━━━━━━━━━━━━━━━━━━━━━━━━━━━━━━━━\u001b[0m \u001b[32m6.9/6.9 MB\u001b[0m \u001b[31m68.4 MB/s\u001b[0m eta \u001b[36m0:00:00\u001b[0m\n",
            "\u001b[?25hCollecting omegaconf<2.4,>=2.2 (from hydra-core>=1.2->opr==0.2.1)\n",
            "  Downloading omegaconf-2.3.0-py3-none-any.whl (79 kB)\n",
            "\u001b[2K     \u001b[90m━━━━━━━━━━━━━━━━━━━━━━━━━━━━━━━━━━━━━━━━\u001b[0m \u001b[32m79.5/79.5 kB\u001b[0m \u001b[31m12.5 MB/s\u001b[0m eta \u001b[36m0:00:00\u001b[0m\n",
            "\u001b[?25hCollecting antlr4-python3-runtime==4.9.* (from hydra-core>=1.2->opr==0.2.1)\n",
            "  Downloading antlr4-python3-runtime-4.9.3.tar.gz (117 kB)\n",
            "\u001b[2K     \u001b[90m━━━━━━━━━━━━━━━━━━━━━━━━━━━━━━━━━━━━━━━━\u001b[0m \u001b[32m117.0/117.0 kB\u001b[0m \u001b[31m18.8 MB/s\u001b[0m eta \u001b[36m0:00:00\u001b[0m\n",
            "\u001b[?25h  Preparing metadata (setup.py) ... \u001b[?25l\u001b[?25hdone\n",
            "Requirement already satisfied: packaging in /usr/local/lib/python3.10/dist-packages (from hydra-core>=1.2->opr==0.2.1) (24.1)\n",
            "Requirement already satisfied: tenacity>=6.2.0 in /usr/local/lib/python3.10/dist-packages (from plotly>=5.14.1->opr==0.2.1) (8.4.2)\n",
            "Requirement already satisfied: charset-normalizer<4,>=2 in /usr/local/lib/python3.10/dist-packages (from requests>=2.31.0->opr==0.2.1) (3.3.2)\n",
            "Requirement already satisfied: idna<4,>=2.5 in /usr/local/lib/python3.10/dist-packages (from requests>=2.31.0->opr==0.2.1) (3.7)\n",
            "Requirement already satisfied: urllib3<3,>=1.21.1 in /usr/local/lib/python3.10/dist-packages (from requests>=2.31.0->opr==0.2.1) (2.0.7)\n",
            "Requirement already satisfied: certifi>=2017.4.17 in /usr/local/lib/python3.10/dist-packages (from requests>=2.31.0->opr==0.2.1) (2024.6.2)\n",
            "Requirement already satisfied: scikit-image>=0.16.1 in /usr/local/lib/python3.10/dist-packages (from albumentations->opr==0.2.1) (0.19.3)\n",
            "Requirement already satisfied: PyYAML in /usr/local/lib/python3.10/dist-packages (from albumentations->opr==0.2.1) (6.0.1)\n",
            "Requirement already satisfied: qudida>=0.0.4 in /usr/local/lib/python3.10/dist-packages (from albumentations->opr==0.2.1) (0.0.4)\n",
            "Requirement already satisfied: opencv-python-headless>=4.1.1 in /usr/local/lib/python3.10/dist-packages (from albumentations->opr==0.2.1) (4.10.0.84)\n",
            "Requirement already satisfied: contourpy>=1.0.1 in /usr/local/lib/python3.10/dist-packages (from matplotlib->opr==0.2.1) (1.2.1)\n",
            "Requirement already satisfied: cycler>=0.10 in /usr/local/lib/python3.10/dist-packages (from matplotlib->opr==0.2.1) (0.12.1)\n",
            "Requirement already satisfied: fonttools>=4.22.0 in /usr/local/lib/python3.10/dist-packages (from matplotlib->opr==0.2.1) (4.53.0)\n",
            "Requirement already satisfied: kiwisolver>=1.0.1 in /usr/local/lib/python3.10/dist-packages (from matplotlib->opr==0.2.1) (1.4.5)\n",
            "Requirement already satisfied: pillow>=6.2.0 in /usr/local/lib/python3.10/dist-packages (from matplotlib->opr==0.2.1) (9.4.0)\n",
            "Requirement already satisfied: pyparsing>=2.3.1 in /usr/local/lib/python3.10/dist-packages (from matplotlib->opr==0.2.1) (3.1.2)\n",
            "Requirement already satisfied: python-dateutil>=2.7 in /usr/local/lib/python3.10/dist-packages (from matplotlib->opr==0.2.1) (2.8.2)\n",
            "Requirement already satisfied: pytz>=2020.1 in /usr/local/lib/python3.10/dist-packages (from pandas->opr==0.2.1) (2023.4)\n",
            "Requirement already satisfied: tzdata>=2022.1 in /usr/local/lib/python3.10/dist-packages (from pandas->opr==0.2.1) (2024.1)\n",
            "Requirement already satisfied: scikit-learn in /usr/local/lib/python3.10/dist-packages (from pytorch-metric-learning->opr==0.2.1) (1.2.2)\n",
            "Requirement already satisfied: torch>=1.6.0 in /usr/local/lib/python3.10/dist-packages (from pytorch-metric-learning->opr==0.2.1) (2.3.0+cu121)\n",
            "Requirement already satisfied: click!=8.0.0,>=7.1 in /usr/local/lib/python3.10/dist-packages (from wandb->opr==0.2.1) (8.1.7)\n",
            "Collecting docker-pycreds>=0.4.0 (from wandb->opr==0.2.1)\n",
            "  Downloading docker_pycreds-0.4.0-py2.py3-none-any.whl (9.0 kB)\n",
            "Collecting gitpython!=3.1.29,>=1.0.0 (from wandb->opr==0.2.1)\n",
            "  Downloading GitPython-3.1.43-py3-none-any.whl (207 kB)\n",
            "\u001b[2K     \u001b[90m━━━━━━━━━━━━━━━━━━━━━━━━━━━━━━━━━━━━━━━━\u001b[0m \u001b[32m207.3/207.3 kB\u001b[0m \u001b[31m26.6 MB/s\u001b[0m eta \u001b[36m0:00:00\u001b[0m\n",
            "\u001b[?25hRequirement already satisfied: platformdirs in /usr/local/lib/python3.10/dist-packages (from wandb->opr==0.2.1) (4.2.2)\n",
            "Requirement already satisfied: protobuf!=4.21.0,<6,>=3.19.0 in /usr/local/lib/python3.10/dist-packages (from wandb->opr==0.2.1) (3.20.3)\n",
            "Requirement already satisfied: psutil>=5.0.0 in /usr/local/lib/python3.10/dist-packages (from wandb->opr==0.2.1) (5.9.5)\n",
            "Collecting sentry-sdk>=1.0.0 (from wandb->opr==0.2.1)\n",
            "  Downloading sentry_sdk-2.7.1-py2.py3-none-any.whl (300 kB)\n",
            "\u001b[2K     \u001b[90m━━━━━━━━━━━━━━━━━━━━━━━━━━━━━━━━━━━━━━━━\u001b[0m \u001b[32m300.2/300.2 kB\u001b[0m \u001b[31m32.0 MB/s\u001b[0m eta \u001b[36m0:00:00\u001b[0m\n",
            "\u001b[?25hCollecting setproctitle (from wandb->opr==0.2.1)\n",
            "  Downloading setproctitle-1.3.3-cp310-cp310-manylinux_2_5_x86_64.manylinux1_x86_64.manylinux_2_17_x86_64.manylinux2014_x86_64.whl (30 kB)\n",
            "Requirement already satisfied: setuptools in /usr/local/lib/python3.10/dist-packages (from wandb->opr==0.2.1) (67.7.2)\n",
            "Requirement already satisfied: six>=1.4.0 in /usr/local/lib/python3.10/dist-packages (from docker-pycreds>=0.4.0->wandb->opr==0.2.1) (1.16.0)\n",
            "Collecting gitdb<5,>=4.0.1 (from gitpython!=3.1.29,>=1.0.0->wandb->opr==0.2.1)\n",
            "  Downloading gitdb-4.0.11-py3-none-any.whl (62 kB)\n",
            "\u001b[2K     \u001b[90m━━━━━━━━━━━━━━━━━━━━━━━━━━━━━━━━━━━━━━━━\u001b[0m \u001b[32m62.7/62.7 kB\u001b[0m \u001b[31m9.8 MB/s\u001b[0m eta \u001b[36m0:00:00\u001b[0m\n",
            "\u001b[?25hRequirement already satisfied: typing-extensions in /usr/local/lib/python3.10/dist-packages (from qudida>=0.0.4->albumentations->opr==0.2.1) (4.12.2)\n",
            "Requirement already satisfied: networkx>=2.2 in /usr/local/lib/python3.10/dist-packages (from scikit-image>=0.16.1->albumentations->opr==0.2.1) (3.3)\n",
            "Requirement already satisfied: imageio>=2.4.1 in /usr/local/lib/python3.10/dist-packages (from scikit-image>=0.16.1->albumentations->opr==0.2.1) (2.31.6)\n",
            "Requirement already satisfied: tifffile>=2019.7.26 in /usr/local/lib/python3.10/dist-packages (from scikit-image>=0.16.1->albumentations->opr==0.2.1) (2024.6.18)\n",
            "Requirement already satisfied: PyWavelets>=1.1.1 in /usr/local/lib/python3.10/dist-packages (from scikit-image>=0.16.1->albumentations->opr==0.2.1) (1.6.0)\n",
            "Requirement already satisfied: joblib>=1.1.1 in /usr/local/lib/python3.10/dist-packages (from scikit-learn->pytorch-metric-learning->opr==0.2.1) (1.4.2)\n",
            "Requirement already satisfied: threadpoolctl>=2.0.0 in /usr/local/lib/python3.10/dist-packages (from scikit-learn->pytorch-metric-learning->opr==0.2.1) (3.5.0)\n",
            "Requirement already satisfied: filelock in /usr/local/lib/python3.10/dist-packages (from torch>=1.6.0->pytorch-metric-learning->opr==0.2.1) (3.15.4)\n",
            "Requirement already satisfied: sympy in /usr/local/lib/python3.10/dist-packages (from torch>=1.6.0->pytorch-metric-learning->opr==0.2.1) (1.12.1)\n",
            "Requirement already satisfied: jinja2 in /usr/local/lib/python3.10/dist-packages (from torch>=1.6.0->pytorch-metric-learning->opr==0.2.1) (3.1.4)\n",
            "Requirement already satisfied: fsspec in /usr/local/lib/python3.10/dist-packages (from torch>=1.6.0->pytorch-metric-learning->opr==0.2.1) (2023.6.0)\n",
            "Collecting nvidia-cuda-nvrtc-cu12==12.1.105 (from torch>=1.6.0->pytorch-metric-learning->opr==0.2.1)\n",
            "  Using cached nvidia_cuda_nvrtc_cu12-12.1.105-py3-none-manylinux1_x86_64.whl (23.7 MB)\n",
            "Collecting nvidia-cuda-runtime-cu12==12.1.105 (from torch>=1.6.0->pytorch-metric-learning->opr==0.2.1)\n",
            "  Using cached nvidia_cuda_runtime_cu12-12.1.105-py3-none-manylinux1_x86_64.whl (823 kB)\n",
            "Collecting nvidia-cuda-cupti-cu12==12.1.105 (from torch>=1.6.0->pytorch-metric-learning->opr==0.2.1)\n",
            "  Using cached nvidia_cuda_cupti_cu12-12.1.105-py3-none-manylinux1_x86_64.whl (14.1 MB)\n",
            "Collecting nvidia-cudnn-cu12==8.9.2.26 (from torch>=1.6.0->pytorch-metric-learning->opr==0.2.1)\n",
            "  Using cached nvidia_cudnn_cu12-8.9.2.26-py3-none-manylinux1_x86_64.whl (731.7 MB)\n",
            "Collecting nvidia-cublas-cu12==12.1.3.1 (from torch>=1.6.0->pytorch-metric-learning->opr==0.2.1)\n",
            "  Using cached nvidia_cublas_cu12-12.1.3.1-py3-none-manylinux1_x86_64.whl (410.6 MB)\n",
            "Collecting nvidia-cufft-cu12==11.0.2.54 (from torch>=1.6.0->pytorch-metric-learning->opr==0.2.1)\n",
            "  Using cached nvidia_cufft_cu12-11.0.2.54-py3-none-manylinux1_x86_64.whl (121.6 MB)\n",
            "Collecting nvidia-curand-cu12==10.3.2.106 (from torch>=1.6.0->pytorch-metric-learning->opr==0.2.1)\n",
            "  Using cached nvidia_curand_cu12-10.3.2.106-py3-none-manylinux1_x86_64.whl (56.5 MB)\n",
            "Collecting nvidia-cusolver-cu12==11.4.5.107 (from torch>=1.6.0->pytorch-metric-learning->opr==0.2.1)\n",
            "  Using cached nvidia_cusolver_cu12-11.4.5.107-py3-none-manylinux1_x86_64.whl (124.2 MB)\n",
            "Collecting nvidia-cusparse-cu12==12.1.0.106 (from torch>=1.6.0->pytorch-metric-learning->opr==0.2.1)\n",
            "  Using cached nvidia_cusparse_cu12-12.1.0.106-py3-none-manylinux1_x86_64.whl (196.0 MB)\n",
            "Collecting nvidia-nccl-cu12==2.20.5 (from torch>=1.6.0->pytorch-metric-learning->opr==0.2.1)\n",
            "  Using cached nvidia_nccl_cu12-2.20.5-py3-none-manylinux2014_x86_64.whl (176.2 MB)\n",
            "Collecting nvidia-nvtx-cu12==12.1.105 (from torch>=1.6.0->pytorch-metric-learning->opr==0.2.1)\n",
            "  Using cached nvidia_nvtx_cu12-12.1.105-py3-none-manylinux1_x86_64.whl (99 kB)\n",
            "Requirement already satisfied: triton==2.3.0 in /usr/local/lib/python3.10/dist-packages (from torch>=1.6.0->pytorch-metric-learning->opr==0.2.1) (2.3.0)\n",
            "Collecting nvidia-nvjitlink-cu12 (from nvidia-cusolver-cu12==11.4.5.107->torch>=1.6.0->pytorch-metric-learning->opr==0.2.1)\n",
            "  Downloading nvidia_nvjitlink_cu12-12.5.82-py3-none-manylinux2014_x86_64.whl (21.3 MB)\n",
            "\u001b[2K     \u001b[90m━━━━━━━━━━━━━━━━━━━━━━━━━━━━━━━━━━━━━━━━\u001b[0m \u001b[32m21.3/21.3 MB\u001b[0m \u001b[31m57.2 MB/s\u001b[0m eta \u001b[36m0:00:00\u001b[0m\n",
            "\u001b[?25hCollecting smmap<6,>=3.0.1 (from gitdb<5,>=4.0.1->gitpython!=3.1.29,>=1.0.0->wandb->opr==0.2.1)\n",
            "  Downloading smmap-5.0.1-py3-none-any.whl (24 kB)\n",
            "Requirement already satisfied: MarkupSafe>=2.0 in /usr/local/lib/python3.10/dist-packages (from jinja2->torch>=1.6.0->pytorch-metric-learning->opr==0.2.1) (2.1.5)\n",
            "Requirement already satisfied: mpmath<1.4.0,>=1.1.0 in /usr/local/lib/python3.10/dist-packages (from sympy->torch>=1.6.0->pytorch-metric-learning->opr==0.2.1) (1.3.0)\n",
            "Building wheels for collected packages: opr, antlr4-python3-runtime\n",
            "  Building editable for opr (pyproject.toml) ... \u001b[?25l\u001b[?25hdone\n",
            "  Created wheel for opr: filename=opr-0.2.1-0.editable-py3-none-any.whl size=6476 sha256=2f905592667ab9872c20bd65de98933ed53e2eb275f3082d2d8bdc3c1d4ec826\n",
            "  Stored in directory: /tmp/pip-ephem-wheel-cache-hmu9av4w/wheels/4e/ea/fc/830ab642798549f1c268b33dc3add210794ad74f3678a0fa0f\n",
            "  Building wheel for antlr4-python3-runtime (setup.py) ... \u001b[?25l\u001b[?25hdone\n",
            "  Created wheel for antlr4-python3-runtime: filename=antlr4_python3_runtime-4.9.3-py3-none-any.whl size=144554 sha256=32e0cb9974a8bb00b3090b646ba2363a63478447f1603aac45accd5fb3344e09\n",
            "  Stored in directory: /root/.cache/pip/wheels/12/93/dd/1f6a127edc45659556564c5730f6d4e300888f4bca2d4c5a88\n",
            "Successfully built opr antlr4-python3-runtime\n",
            "Installing collected packages: kaleido, antlr4-python3-runtime, smmap, setproctitle, sentry-sdk, omegaconf, nvidia-nvtx-cu12, nvidia-nvjitlink-cu12, nvidia-nccl-cu12, nvidia-curand-cu12, nvidia-cufft-cu12, nvidia-cuda-runtime-cu12, nvidia-cuda-nvrtc-cu12, nvidia-cuda-cupti-cu12, nvidia-cublas-cu12, docker-pycreds, nvidia-cusparse-cu12, nvidia-cudnn-cu12, hydra-core, gitdb, nvidia-cusolver-cu12, gitpython, wandb, pytorch-metric-learning, opr\n",
            "Successfully installed antlr4-python3-runtime-4.9.3 docker-pycreds-0.4.0 gitdb-4.0.11 gitpython-3.1.43 hydra-core-1.3.2 kaleido-0.2.1 nvidia-cublas-cu12-12.1.3.1 nvidia-cuda-cupti-cu12-12.1.105 nvidia-cuda-nvrtc-cu12-12.1.105 nvidia-cuda-runtime-cu12-12.1.105 nvidia-cudnn-cu12-8.9.2.26 nvidia-cufft-cu12-11.0.2.54 nvidia-curand-cu12-10.3.2.106 nvidia-cusolver-cu12-11.4.5.107 nvidia-cusparse-cu12-12.1.0.106 nvidia-nccl-cu12-2.20.5 nvidia-nvjitlink-cu12-12.5.82 nvidia-nvtx-cu12-12.1.105 omegaconf-2.3.0 opr-0.2.1 pytorch-metric-learning-2.5.0 sentry-sdk-2.7.1 setproctitle-1.3.3 smmap-5.0.1 wandb-0.17.3\n"
          ]
        },
        {
          "data": {
            "application/vnd.colab-display-data+json": {
              "id": "efd83d1c84604961a0b00bffd2fcb63a",
              "pip_warning": {
                "packages": [
                  "pydevd_plugins"
                ]
              }
            }
          },
          "metadata": {},
          "output_type": "display_data"
        },
        {
          "name": "stdout",
          "output_type": "stream",
          "text": [
            "/content\n"
          ]
        }
      ],
      "source": [
        "!git clone -b feat/itlp_outdoor https://github.com/alexmelekhin/open_place_recognition\n",
        "%cd open_place_recognition\n",
        "!pip install -e .  # флаг -e необходим для возможности редактировать код уже установленной библиотеки\n",
        "%cd .."
      ]
    },
    {
      "cell_type": "code",
      "execution_count": null,
      "metadata": {
        "colab": {
          "base_uri": "https://localhost:8080/"
        },
        "id": "wFWPxHws0woD",
        "outputId": "64ce8514-80c7-4934-dff3-723c265f664c"
      },
      "outputs": [
        {
          "name": "stdout",
          "output_type": "stream",
          "text": [
            "Collecting loguru\n",
            "  Downloading loguru-0.7.2-py3-none-any.whl (62 kB)\n",
            "\u001b[?25l     \u001b[90m━━━━━━━━━━━━━━━━━━━━━━━━━━━━━━━━━━━━━━━━\u001b[0m \u001b[32m0.0/62.5 kB\u001b[0m \u001b[31m?\u001b[0m eta \u001b[36m-:--:--\u001b[0m\r\u001b[2K     \u001b[90m━━━━━━━━━━━━━━━━━━━━━━━━━━━━━━━━━━━━━━━━\u001b[0m \u001b[32m62.5/62.5 kB\u001b[0m \u001b[31m3.2 MB/s\u001b[0m eta \u001b[36m0:00:00\u001b[0m\n",
            "\u001b[?25hInstalling collected packages: loguru\n",
            "Successfully installed loguru-0.7.2\n"
          ]
        }
      ],
      "source": [
        "!pip install loguru"
      ]
    },
    {
      "cell_type": "code",
      "execution_count": null,
      "metadata": {
        "colab": {
          "base_uri": "https://localhost:8080/"
        },
        "id": "_rscHcEP0x9w",
        "outputId": "6f6ca73d-03f3-45bd-a1fa-4b0033728e5e"
      },
      "outputs": [
        {
          "name": "stdout",
          "output_type": "stream",
          "text": [
            "Collecting numpy-quaternion\n",
            "  Downloading numpy_quaternion-2023.0.4-cp310-cp310-manylinux_2_5_x86_64.manylinux1_x86_64.manylinux_2_17_x86_64.manylinux2014_x86_64.whl (195 kB)\n",
            "\u001b[?25l     \u001b[90m━━━━━━━━━━━━━━━━━━━━━━━━━━━━━━━━━━━━━━━━\u001b[0m \u001b[32m0.0/195.8 kB\u001b[0m \u001b[31m?\u001b[0m eta \u001b[36m-:--:--\u001b[0m\r\u001b[2K     \u001b[91m━━━━━━━━━━━━━━━━━━\u001b[0m\u001b[91m╸\u001b[0m\u001b[90m━━━━━━━━━━━━━━━━━━━━━\u001b[0m \u001b[32m92.2/195.8 kB\u001b[0m \u001b[31m2.3 MB/s\u001b[0m eta \u001b[36m0:00:01\u001b[0m\r\u001b[2K     \u001b[90m━━━━━━━━━━━━━━━━━━━━━━━━━━━━━━━━━━━━━━━━\u001b[0m \u001b[32m195.8/195.8 kB\u001b[0m \u001b[31m3.3 MB/s\u001b[0m eta \u001b[36m0:00:00\u001b[0m\n",
            "\u001b[?25hRequirement already satisfied: numpy<2.0,>=1.13 in /usr/local/lib/python3.10/dist-packages (from numpy-quaternion) (1.25.2)\n",
            "Installing collected packages: numpy-quaternion\n",
            "Successfully installed numpy-quaternion-2023.0.4\n"
          ]
        }
      ],
      "source": [
        "!python -m pip install numpy-quaternion"
      ]
    },
    {
      "cell_type": "markdown",
      "metadata": {
        "id": "-VDVL9JqVBeP"
      },
      "source": [
        "## Загрузка датасета в Google Colab\n",
        "\n",
        "Пример кода для загрузки датасета."
      ]
    },
    {
      "cell_type": "markdown",
      "metadata": {
        "id": "MCHL-ePgVD_d"
      },
      "source": [
        "Вы можете воспользоваться утилитой gdown, которая по умолчанию доступна в Colab. Допустим, https://drive.google.com/file/d/1rXsx0GEotwwTHjX1PveKdGzcatssO7wg/view?usp=sharing - ссылка на файл. Чтобы скачать его, нам нужно передать в gdown в качестве аргумента его id - для данного примера это `1rXsx0GEotwwTHjX1PveKdGzcatssO7wg` (часть ссылки между `file/d/` и `/view`)."
      ]
    },
    {
      "cell_type": "code",
      "execution_count": null,
      "metadata": {
        "colab": {
          "base_uri": "https://localhost:8080/"
        },
        "id": "HU_raFZDc5_R",
        "outputId": "19ac0cfd-654d-4c51-f6f5-55638c25def5"
      },
      "outputs": [
        {
          "name": "stdout",
          "output_type": "stream",
          "text": [
            "Downloading...\n",
            "From (original): https://drive.google.com/uc?id=1rXsx0GEotwwTHjX1PveKdGzcatssO7wg\n",
            "From (redirected): https://drive.google.com/uc?id=1rXsx0GEotwwTHjX1PveKdGzcatssO7wg&confirm=t&uuid=026c81eb-0a1c-4171-9a5e-984212df4cc0\n",
            "To: /content/public.zip\n",
            "100% 4.38G/4.38G [00:36<00:00, 118MB/s] \n"
          ]
        }
      ],
      "source": [
        "!gdown 1rXsx0GEotwwTHjX1PveKdGzcatssO7wg"
      ]
    },
    {
      "cell_type": "markdown",
      "metadata": {
        "id": "M77B11hOVSHw"
      },
      "source": [
        "Вы можете сверить хэш-сумму файла:"
      ]
    },
    {
      "cell_type": "code",
      "execution_count": null,
      "metadata": {
        "colab": {
          "base_uri": "https://localhost:8080/"
        },
        "id": "CEzvaptYd7q7",
        "outputId": "73ad31d9-1e98-4c1d-f170-2d74beaba1c8"
      },
      "outputs": [
        {
          "name": "stdout",
          "output_type": "stream",
          "text": [
            "a47d94a21b0723868d4b0ceac0a42f2890cbbc17f96067f1180612224e908c1c  public.zip\n"
          ]
        }
      ],
      "source": [
        "!sha256sum public.zip"
      ]
    },
    {
      "cell_type": "markdown",
      "metadata": {
        "id": "Cl857pVbVUeH"
      },
      "source": [
        "И распаковать архив:"
      ]
    },
    {
      "cell_type": "code",
      "execution_count": null,
      "metadata": {
        "id": "wU7TSZiNevSm"
      },
      "outputs": [],
      "source": [
        "!unzip -q public.zip"
      ]
    },
    {
      "cell_type": "markdown",
      "metadata": {
        "id": "KjgoHQ8qVYLz"
      },
      "source": [
        "## Базовое решение"
      ]
    },
    {
      "cell_type": "markdown",
      "metadata": {
        "id": "snGTAkbeVaAk"
      },
      "source": [
        "Создаем даталоадеры"
      ]
    },
    {
      "cell_type": "code",
      "execution_count": null,
      "metadata": {
        "id": "-ABtBcWbeyOh"
      },
      "outputs": [],
      "source": [
        "DATA_ROOT = \"/content/public\""
      ]
    },
    {
      "cell_type": "code",
      "execution_count": null,
      "metadata": {
        "id": "Aa2CcbvzhW-2"
      },
      "outputs": [],
      "source": [
        "from torch.utils.data import DataLoader\n",
        "\n",
        "from opr.datasets.itlp_outdoor import ITLPCampusOutdoor\n",
        "from opr.samplers import BatchSampler"
      ]
    },
    {
      "cell_type": "code",
      "execution_count": null,
      "metadata": {
        "id": "7nZ5T3KmhYR2"
      },
      "outputs": [],
      "source": [
        "train_dataset = ITLPCampusOutdoor(\n",
        "    DATA_ROOT,\n",
        "    subset=\"train\",\n",
        "    sensors=(\"front_cam\", \"back_cam\"),\n",
        "    load_semantics=True,\n",
        ")\n",
        "val_dataset = ITLPCampusOutdoor(\n",
        "    DATA_ROOT,\n",
        "    subset=\"val\",\n",
        "    sensors=(\"front_cam\", \"back_cam\"),\n",
        "    load_semantics=True,\n",
        ")\n",
        "\n",
        "test_dataset = ITLPCampusOutdoor(\n",
        "    DATA_ROOT,\n",
        "    subset=\"test\",\n",
        "    sensors=(\"front_cam\", \"back_cam\"),\n",
        "    load_semantics=True,\n",
        ")\n"
      ]
    },
    {
      "cell_type": "code",
      "execution_count": null,
      "metadata": {
        "id": "EjDaCWMUtXH2"
      },
      "outputs": [],
      "source": [
        "train_sampler = BatchSampler(\n",
        "    train_dataset,\n",
        "    batch_size=16,  # initial batch size\n",
        "    batch_size_limit=256,  # maximum batch size (see \"Dynamic Batch Sizing\")\n",
        "    batch_expansion_rate=1.4,\n",
        "    drop_last=True,\n",
        ")\n",
        "val_sampler = BatchSampler(\n",
        "    val_dataset,\n",
        "    batch_size=256,  # initial batch size\n",
        "    drop_last=True,\n",
        ")"
      ]
    },
    {
      "cell_type": "code",
      "execution_count": null,
      "metadata": {
        "colab": {
          "base_uri": "https://localhost:8080/"
        },
        "id": "ftIEDAzetoWp",
        "outputId": "f42bcbf3-ef35-4575-f242-3bdd80a3fa8e"
      },
      "outputs": [
        {
          "name": "stderr",
          "output_type": "stream",
          "text": [
            "/usr/local/lib/python3.10/dist-packages/torch/utils/data/dataloader.py:558: UserWarning: This DataLoader will create 4 worker processes in total. Our suggested max number of worker in current system is 2, which is smaller than what this DataLoader is going to create. Please be aware that excessive worker creation might get DataLoader running slow or even freeze, lower the worker number to avoid potential slowness/freeze if necessary.\n",
            "  warnings.warn(_create_warning_msg(\n"
          ]
        }
      ],
      "source": [
        "train_dl = DataLoader(\n",
        "    dataset=train_dataset,\n",
        "    batch_sampler=train_sampler,\n",
        "    collate_fn=train_dataset.collate_fn,\n",
        "    num_workers=4,\n",
        "    pin_memory=True,\n",
        ")\n",
        "val_dl = DataLoader(\n",
        "    dataset=val_dataset,\n",
        "    batch_sampler=val_sampler,\n",
        "    collate_fn=val_dataset.collate_fn,\n",
        "    num_workers=4,\n",
        "    pin_memory=True,\n",
        ")\n",
        "\n",
        "test_dl = DataLoader(\n",
        "    dataset=test_dataset,\n",
        "    batch_size=256,\n",
        "    collate_fn=test_dataset.collate_fn,\n",
        "    num_workers=4,\n",
        "    pin_memory=True,\n",
        "    drop_last=False,\n",
        ")\n"
      ]
    },
    {
      "cell_type": "markdown",
      "metadata": {
        "id": "Bj3vrVetVkjz"
      },
      "source": [
        "В качестве базовой модели будем использовать ResNet18FPN для извлечения признаков изображения, Generalized Mean (GeM) pooling, фьюзить данные будем с помощью суммирования"
      ]
    },
    {
      "cell_type": "code",
      "execution_count": null,
      "metadata": {
        "id": "fb3akcwctvU5"
      },
      "outputs": [],
      "source": [
        "import torch\n",
        "\n",
        "from opr.models.place_recognition.base import ImageModel\n",
        "from opr.modules.feature_extractors import ResNet18FPNFeatureExtractor\n",
        "from opr.modules import Add, GeM"
      ]
    },
    {
      "cell_type": "code",
      "execution_count": null,
      "metadata": {
        "colab": {
          "base_uri": "https://localhost:8080/"
        },
        "id": "w4yH-UZquGPr",
        "outputId": "dd84a801-fb2f-4ed6-f74a-91af3a1c601e"
      },
      "outputs": [
        {
          "name": "stderr",
          "output_type": "stream",
          "text": [
            "Downloading: \"https://download.pytorch.org/models/resnet18-f37072fd.pth\" to /root/.cache/torch/hub/checkpoints/resnet18-f37072fd.pth\n",
            "100%|██████████| 44.7M/44.7M [00:00<00:00, 63.9MB/s]\n"
          ]
        }
      ],
      "source": [
        "feature_extractor = ResNet18FPNFeatureExtractor(\n",
        "    in_channels=3,\n",
        "    lateral_dim=256,\n",
        "    fh_num_bottom_up=4,\n",
        "    fh_num_top_down=0,\n",
        "    pretrained=True,\n",
        ")\n",
        "pooling = GeM()\n",
        "descriptor_fusion_module = Add()\n",
        "\n",
        "model = ImageModel(\n",
        "    backbone=feature_extractor,\n",
        "    head=pooling,\n",
        "    fusion=descriptor_fusion_module,\n",
        ")"
      ]
    },
    {
      "cell_type": "code",
      "execution_count": null,
      "metadata": {
        "id": "K2RAaSX_3VH_"
      },
      "outputs": [],
      "source": [
        "IMAGE_LR = 0.0001\n",
        "HEAD_LR = 0.0001\n",
        "FUSION_LR = 0.0001\n",
        "WEIGHT_DECAY = 0.0001\n",
        "SCHEDULER_GAMMA = 0.1\n",
        "SCHEDULER_STEPS = [5]"
      ]
    },
    {
      "cell_type": "code",
      "execution_count": null,
      "metadata": {
        "id": "ea113dsq3gd6"
      },
      "outputs": [],
      "source": [
        "from torch.optim import Adam\n",
        "from torch.optim.lr_scheduler import MultiStepLR"
      ]
    },
    {
      "cell_type": "code",
      "execution_count": null,
      "metadata": {
        "id": "Bmt6f-Ri3RY7"
      },
      "outputs": [],
      "source": [
        "params_list = []\n",
        "if model.backbone is not None and IMAGE_LR is not None:\n",
        "    params_list.append({\"params\": model.backbone.parameters(), \"lr\": IMAGE_LR})\n",
        "if model.head is not None and HEAD_LR is not None:\n",
        "    params_list.append({\"params\": model.head.parameters(), \"lr\": HEAD_LR})\n",
        "if model.fusion is not None and FUSION_LR is not None:\n",
        "    params_list.append({\"params\": model.fusion.parameters(), \"lr\": FUSION_LR})"
      ]
    },
    {
      "cell_type": "code",
      "execution_count": null,
      "metadata": {
        "id": "GbeQIk_m2gXr"
      },
      "outputs": [],
      "source": [
        "from opr.trainers.place_recognition import UnimodalPlaceRecognitionTrainer\n",
        "from opr.losses import BatchHardTripletMarginLoss\n"
      ]
    },
    {
      "cell_type": "code",
      "execution_count": null,
      "metadata": {
        "id": "uc5xYcMnzwhG"
      },
      "outputs": [],
      "source": [
        "!mkdir checkpoints"
      ]
    },
    {
      "cell_type": "markdown",
      "metadata": {
        "id": "PxbIAJF8WkKu"
      },
      "source": [
        "Инициализируем наш Trainer"
      ]
    },
    {
      "cell_type": "code",
      "execution_count": null,
      "metadata": {
        "id": "9wBkIkn52q12"
      },
      "outputs": [],
      "source": [
        "loss_fn = BatchHardTripletMarginLoss(margin=0.2)\n",
        "optimizer = Adam(params_list, weight_decay=WEIGHT_DECAY)\n",
        "scheduler = MultiStepLR(optimizer, milestones=SCHEDULER_STEPS, gamma=SCHEDULER_GAMMA)\n",
        "\n",
        "trainer = UnimodalPlaceRecognitionTrainer(\n",
        "    checkpoints_dir='/content/checkpoints',\n",
        "    model=model,\n",
        "    loss_fn=loss_fn,\n",
        "    optimizer=optimizer,\n",
        "    scheduler=scheduler,\n",
        "    batch_expansion_threshold=0.7,\n",
        "    wandb_log=False,\n",
        "    device='cuda',\n",
        ")"
      ]
    },
    {
      "cell_type": "markdown",
      "metadata": {
        "id": "-cUHgTJyWmyI"
      },
      "source": [
        "Обучаем"
      ]
    },
    {
      "cell_type": "code",
      "execution_count": null,
      "metadata": {
        "colab": {
          "base_uri": "https://localhost:8080/"
        },
        "id": "kYk2hala4spa",
        "outputId": "da34ec6d-21f2-422e-f9dc-8bed244da83a"
      },
      "outputs": [
        {
          "name": "stderr",
          "output_type": "stream",
          "text": [
            "\u001b[32m2024-07-02 15:03:10.830\u001b[0m | \u001b[1mINFO    \u001b[0m | \u001b[36mopr.trainers.place_recognition.unimodal\u001b[0m:\u001b[36mtrain\u001b[0m:\u001b[36m113\u001b[0m - \u001b[1m=====> Epoch:   1/2:\u001b[0m\n",
            "\u001b[32m2024-07-02 15:03:10.832\u001b[0m | \u001b[1mINFO    \u001b[0m | \u001b[36mopr.trainers.place_recognition.unimodal\u001b[0m:\u001b[36m_loop_epoch\u001b[0m:\u001b[36m244\u001b[0m - \u001b[1m=> Train stage:\u001b[0m\n",
            "Train:   0%|          | 0/87 [00:00<?, ?it/s]/usr/local/lib/python3.10/dist-packages/torch/autograd/graph.py:744: UserWarning: Plan failed with a cudnnException: CUDNN_BACKEND_EXECUTION_PLAN_DESCRIPTOR: cudnnFinalize Descriptor Failed cudnn_status: CUDNN_STATUS_NOT_SUPPORTED (Triggered internally at ../aten/src/ATen/native/cudnn/Conv_v8.cpp:919.)\n",
            "  return Variable._execution_engine.run_backward(  # Calls into the C++ engine to run the backward pass\n",
            "\u001b[32m2024-07-02 15:04:54.749\u001b[0m | \u001b[1mINFO    \u001b[0m | \u001b[36mopr.trainers.place_recognition.unimodal\u001b[0m:\u001b[36m_loop_epoch\u001b[0m:\u001b[36m277\u001b[0m - \u001b[1mVal time: 00:27\u001b[0m\n",
            "\u001b[32m2024-07-02 15:04:54.752\u001b[0m | \u001b[1mINFO    \u001b[0m | \u001b[36mopr.trainers.place_recognition.unimodal\u001b[0m:\u001b[36m_loop_epoch\u001b[0m:\u001b[36m278\u001b[0m - \u001b[1mVal stats: {'loss': 0.3683227300643921, 'avg_embedding_norm': 3.8014451265335083, 'num_triplets': 256.0, 'num_non_zero_triplets': 255.0, 'non_zero_rate': 0.99609375, 'max_pos_pair_dist': 1.0712546110153198, 'max_neg_pair_dist': 0.7046792805194855, 'mean_pos_pair_dist': 0.6545888185501099, 'mean_neg_pair_dist': 0.4900696277618408, 'min_pos_pair_dist': 0.34839072823524475, 'min_neg_pair_dist': 0.37672126293182373}\u001b[0m\n",
            "\u001b[32m2024-07-02 15:04:54.754\u001b[0m | \u001b[1mINFO    \u001b[0m | \u001b[36mopr.trainers.place_recognition.unimodal\u001b[0m:\u001b[36mtest\u001b[0m:\u001b[36m172\u001b[0m - \u001b[1m=> Test stage:\u001b[0m\n",
            "\u001b[32m2024-07-02 15:06:34.436\u001b[0m | \u001b[34m\u001b[1mDEBUG   \u001b[0m | \u001b[36mopr.trainers.place_recognition.unimodal\u001b[0m:\u001b[36mtest\u001b[0m:\u001b[36m194\u001b[0m - \u001b[34m\u001b[1mTest embeddings: (1855, 256)\u001b[0m\n",
            "\u001b[32m2024-07-02 15:06:35.733\u001b[0m | \u001b[1mINFO    \u001b[0m | \u001b[36mopr.trainers.place_recognition.unimodal\u001b[0m:\u001b[36mtest\u001b[0m:\u001b[36m228\u001b[0m - \u001b[1mTest time: 01:40\u001b[0m\n",
            "\u001b[32m2024-07-02 15:06:35.736\u001b[0m | \u001b[1mINFO    \u001b[0m | \u001b[36mopr.trainers.place_recognition.unimodal\u001b[0m:\u001b[36mtest\u001b[0m:\u001b[36m229\u001b[0m - \u001b[1mMean Recall@N:\n",
            "[0.73696856 0.81912395 0.85450676 0.87740621 0.89225645 0.90518145\n",
            " 0.9151492  0.9224214  0.93105366 0.93697656 0.94208725 0.94585013\n",
            " 0.94934937 0.95124225 0.95339172 0.95528097 0.95958072 0.96253751\n",
            " 0.96441324 0.96468293 0.96575736 0.96710372 0.96844581 0.97086065\n",
            " 0.97193679]\u001b[0m\n",
            "\u001b[32m2024-07-02 15:06:35.738\u001b[0m | \u001b[1mINFO    \u001b[0m | \u001b[36mopr.trainers.place_recognition.unimodal\u001b[0m:\u001b[36mtest\u001b[0m:\u001b[36m230\u001b[0m - \u001b[1mMean Recall@1% = 0.9051814493820176\u001b[0m\n",
            "\u001b[32m2024-07-02 15:06:35.741\u001b[0m | \u001b[1mINFO    \u001b[0m | \u001b[36mopr.trainers.place_recognition.unimodal\u001b[0m:\u001b[36mtest\u001b[0m:\u001b[36m231\u001b[0m - \u001b[1mMean top-1 distance = 0.4563662140862889\u001b[0m\n",
            "\u001b[32m2024-07-02 15:06:35.842\u001b[0m | \u001b[1mINFO    \u001b[0m | \u001b[36mopr.trainers.place_recognition.unimodal\u001b[0m:\u001b[36mtrain\u001b[0m:\u001b[36m159\u001b[0m - \u001b[1mRecall@1 improved!\u001b[0m\n",
            "\u001b[32m2024-07-02 15:06:35.906\u001b[0m | \u001b[1mINFO    \u001b[0m | \u001b[36mopr.trainers.place_recognition.unimodal\u001b[0m:\u001b[36mtrain\u001b[0m:\u001b[36m113\u001b[0m - \u001b[1m=====> Epoch:   2/2:\u001b[0m\n",
            "\u001b[32m2024-07-02 15:06:35.907\u001b[0m | \u001b[1mINFO    \u001b[0m | \u001b[36mopr.trainers.place_recognition.unimodal\u001b[0m:\u001b[36m_loop_epoch\u001b[0m:\u001b[36m244\u001b[0m - \u001b[1m=> Train stage:\u001b[0m\n",
            "Train:   0%|          | 0/87 [00:00<?, ?it/s]/usr/local/lib/python3.10/dist-packages/torch/utils/data/dataloader.py:558: UserWarning: This DataLoader will create 4 worker processes in total. Our suggested max number of worker in current system is 2, which is smaller than what this DataLoader is going to create. Please be aware that excessive worker creation might get DataLoader running slow or even freeze, lower the worker number to avoid potential slowness/freeze if necessary.\n",
            "  warnings.warn(_create_warning_msg(\n",
            "\u001b[32m2024-07-02 15:07:57.727\u001b[0m | \u001b[1mINFO    \u001b[0m | \u001b[36mopr.trainers.place_recognition.unimodal\u001b[0m:\u001b[36m_loop_epoch\u001b[0m:\u001b[36m277\u001b[0m - \u001b[1mTrain time: 01:21\u001b[0m\n",
            "\u001b[32m2024-07-02 15:07:57.735\u001b[0m | \u001b[1mINFO    \u001b[0m | \u001b[36mopr.trainers.place_recognition.unimodal\u001b[0m:\u001b[36m_loop_epoch\u001b[0m:\u001b[36m278\u001b[0m - \u001b[1mTrain stats: {'loss': 0.1254727061710913, 'avg_embedding_norm': 4.273265242576599, 'num_triplets': 16.0, 'num_non_zero_triplets': 7.7727272727272725, 'non_zero_rate': 0.48579545454545453, 'max_pos_pair_dist': 0.7578506584871899, 'max_neg_pair_dist': 1.0731313506310636, 'mean_pos_pair_dist': 0.5680394643409685, 'mean_neg_pair_dist': 0.8185439326546409, 'min_pos_pair_dist': 0.3937676145949147, 'min_neg_pair_dist': 0.6582572013139725}\u001b[0m\n",
            "\u001b[32m2024-07-02 15:07:57.736\u001b[0m | \u001b[1mINFO    \u001b[0m | \u001b[36mopr.trainers.place_recognition.unimodal\u001b[0m:\u001b[36m_loop_epoch\u001b[0m:\u001b[36m244\u001b[0m - \u001b[1m=> Val stage:\u001b[0m\n",
            "\u001b[32m2024-07-02 15:08:29.059\u001b[0m | \u001b[1mINFO    \u001b[0m | \u001b[36mopr.trainers.place_recognition.unimodal\u001b[0m:\u001b[36m_loop_epoch\u001b[0m:\u001b[36m277\u001b[0m - \u001b[1mVal time: 00:31\u001b[0m\n",
            "\u001b[32m2024-07-02 15:08:29.068\u001b[0m | \u001b[1mINFO    \u001b[0m | \u001b[36mopr.trainers.place_recognition.unimodal\u001b[0m:\u001b[36m_loop_epoch\u001b[0m:\u001b[36m278\u001b[0m - \u001b[1mVal stats: {'loss': 0.46054962277412415, 'avg_embedding_norm': 4.108395576477051, 'num_triplets': 256.0, 'num_non_zero_triplets': 256.0, 'non_zero_rate': 1.0, 'max_pos_pair_dist': 1.5316643714904785, 'max_neg_pair_dist': 0.9260868728160858, 'mean_pos_pair_dist': 0.8461354672908783, 'mean_neg_pair_dist': 0.5880804359912872, 'min_pos_pair_dist': 0.5499503910541534, 'min_neg_pair_dist': 0.4374347925186157}\u001b[0m\n",
            "\u001b[32m2024-07-02 15:08:29.070\u001b[0m | \u001b[1mINFO    \u001b[0m | \u001b[36mopr.trainers.place_recognition.unimodal\u001b[0m:\u001b[36mtrain\u001b[0m:\u001b[36m131\u001b[0m - \u001b[1mNon-zero rate is below threshold: 0.486 < 0.7.\u001b[0m\n",
            "\u001b[32m2024-07-02 15:08:30.537\u001b[0m | \u001b[1mINFO    \u001b[0m | \u001b[36mopr.trainers.place_recognition.unimodal\u001b[0m:\u001b[36mtest\u001b[0m:\u001b[36m172\u001b[0m - \u001b[1m=> Test stage:\u001b[0m\n",
            "\u001b[32m2024-07-02 15:10:12.546\u001b[0m | \u001b[34m\u001b[1mDEBUG   \u001b[0m | \u001b[36mopr.trainers.place_recognition.unimodal\u001b[0m:\u001b[36mtest\u001b[0m:\u001b[36m194\u001b[0m - \u001b[34m\u001b[1mTest embeddings: (1855, 256)\u001b[0m\n",
            "\u001b[32m2024-07-02 15:10:13.782\u001b[0m | \u001b[1mINFO    \u001b[0m | \u001b[36mopr.trainers.place_recognition.unimodal\u001b[0m:\u001b[36mtest\u001b[0m:\u001b[36m228\u001b[0m - \u001b[1mTest time: 01:43\u001b[0m\n",
            "\u001b[32m2024-07-02 15:10:13.785\u001b[0m | \u001b[1mINFO    \u001b[0m | \u001b[36mopr.trainers.place_recognition.unimodal\u001b[0m:\u001b[36mtest\u001b[0m:\u001b[36m229\u001b[0m - \u001b[1mMean Recall@N:\n",
            "[0.76276281 0.82817846 0.86143039 0.8792771  0.89383779 0.90520479\n",
            " 0.91517722 0.92216056 0.92861369 0.93291963 0.93775621 0.94180494\n",
            " 0.94395833 0.94665066 0.95015299 0.95149192 0.95390586 0.95471231\n",
            " 0.95686345 0.95848215 0.96116919 0.96277781 0.96385365 0.96627592\n",
            " 0.96735919]\u001b[0m\n",
            "\u001b[32m2024-07-02 15:10:13.788\u001b[0m | \u001b[1mINFO    \u001b[0m | \u001b[36mopr.trainers.place_recognition.unimodal\u001b[0m:\u001b[36mtest\u001b[0m:\u001b[36m230\u001b[0m - \u001b[1mMean Recall@1% = 0.9052047886072051\u001b[0m\n",
            "\u001b[32m2024-07-02 15:10:13.788\u001b[0m | \u001b[1mINFO    \u001b[0m | \u001b[36mopr.trainers.place_recognition.unimodal\u001b[0m:\u001b[36mtest\u001b[0m:\u001b[36m231\u001b[0m - \u001b[1mMean top-1 distance = 0.5398508770866463\u001b[0m\n",
            "\u001b[32m2024-07-02 15:10:13.915\u001b[0m | \u001b[1mINFO    \u001b[0m | \u001b[36mopr.trainers.place_recognition.unimodal\u001b[0m:\u001b[36mtrain\u001b[0m:\u001b[36m159\u001b[0m - \u001b[1mRecall@1 improved!\u001b[0m\n"
          ]
        }
      ],
      "source": [
        "trainer.train(\n",
        "    epochs=2,\n",
        "    train_dataloader=train_dl,\n",
        "    val_dataloader=val_dl,\n",
        "    test_dataloader=test_dl,\n",
        ")"
      ]
    },
    {
      "cell_type": "markdown",
      "metadata": {
        "id": "jQvyl5saW-et"
      },
      "source": [
        "Cтоит отметить, что при обучении тестирование происходит с помощью параметра distance_threshold = 25, подсчет метрик в яндекс контесте происходит при параметре distance_threshold = 5, поэтому делаем перерасчет"
      ]
    },
    {
      "cell_type": "code",
      "execution_count": null,
      "metadata": {
        "id": "rQywAQCvW9MQ"
      },
      "outputs": [],
      "source": [
        "trainer.test(test_dl, distance_threshold=5)"
      ]
    },
    {
      "cell_type": "markdown",
      "metadata": {
        "id": "tJF7Poy-Ws7A"
      },
      "source": [
        "## Подготовка ответа для загрузки на сервер"
      ]
    },
    {
      "cell_type": "markdown",
      "metadata": {
        "id": "0xvGzFF6Wv_F"
      },
      "source": [
        "Пример кода для создания файла сабмита. Вы можете модифицировать пайплайн, например добавить ре-ранжирование кандидатов на основе каких-либо характеристик (например, как в [Path-NetVLAD](https://arxiv.org/abs/2103.01486))."
      ]
    },
    {
      "cell_type": "code",
      "execution_count": null,
      "metadata": {
        "id": "lsaLyKu573Kh"
      },
      "outputs": [],
      "source": [
        "import itertools\n",
        "\n",
        "import pandas as pd\n",
        "from sklearn.neighbors import KDTree\n",
        "import numpy as np\n",
        "import torch\n",
        "from tqdm import tqdm\n",
        "\n",
        "\n",
        "def extract_embeddings(model, descriptor_key, dataloader, device):\n",
        "    model = model.to(device)\n",
        "    model.eval()\n",
        "    with torch.no_grad():\n",
        "        test_embeddings_list = []\n",
        "        for data in tqdm(dataloader, desc=\"Calculating test set descriptors\"):\n",
        "            batch = data\n",
        "            batch = {e: batch[e].to(device) for e in batch}\n",
        "            batch_embeddings = model(batch)\n",
        "            test_embeddings_list.append(batch_embeddings[descriptor_key].cpu().numpy())\n",
        "        test_embeddings = np.vstack(test_embeddings_list)\n",
        "    return test_embeddings\n",
        "\n",
        "\n",
        "def test_submission(\n",
        "    test_embeddings: np.ndarray, dataset_df: pd.DataFrame, filename: str = \"submission.txt\"\n",
        ") -> None:\n",
        "    \"\"\"Function to create submission txt file.\n",
        "\n",
        "    Args:\n",
        "        test_embeddings (np.ndarray): Array of embeddings.\n",
        "        dataset_df (pd.Dataframe): Test dataset dataframe ('test.csv').\n",
        "        filename (str): Name of the output txt file. Defaults to \"submission.txt\".\n",
        "    \"\"\"\n",
        "    tracks = []\n",
        "\n",
        "    for _, group in dataset_df.groupby(\"track\"):\n",
        "        tracks.append(group.index.to_numpy())\n",
        "    n = 1\n",
        "    ij_permutations = sorted(list(itertools.permutations(range(len(tracks)), 2)))\n",
        "    # ij_permutations = [(0, 1), (0, 2), (1, 0), (1, 2), (2, 0), (2, 1)]\n",
        "\n",
        "    submission_lines = []\n",
        "\n",
        "    for i, j in tqdm(ij_permutations, desc=\"Calculating metrics\"):\n",
        "        query_indices = tracks[i]\n",
        "        database_indices = tracks[j]\n",
        "        query_embs = test_embeddings[query_indices]\n",
        "        database_embs = test_embeddings[database_indices]\n",
        "\n",
        "        database_tree = KDTree(database_embs)\n",
        "        _, indices = database_tree.query(query_embs, k=n)\n",
        "\n",
        "        submission_lines.extend(list(database_indices[indices.squeeze()]))\n",
        "\n",
        "    with open(filename, \"w\") as f:\n",
        "        for l in submission_lines:\n",
        "            f.write(str(l)+\"\\n\")"
      ]
    },
    {
      "cell_type": "code",
      "execution_count": null,
      "metadata": {
        "colab": {
          "base_uri": "https://localhost:8080/"
        },
        "id": "_qcdVV_47pCM",
        "outputId": "e5ceff5f-230b-4b63-c17c-fc934ef6a934"
      },
      "outputs": [
        {
          "name": "stderr",
          "output_type": "stream",
          "text": [
            "\rCalculating test set descriptors:   0%|          | 0/8 [00:00<?, ?it/s]/usr/local/lib/python3.10/dist-packages/torch/utils/data/dataloader.py:558: UserWarning: This DataLoader will create 4 worker processes in total. Our suggested max number of worker in current system is 2, which is smaller than what this DataLoader is going to create. Please be aware that excessive worker creation might get DataLoader running slow or even freeze, lower the worker number to avoid potential slowness/freeze if necessary.\n",
            "  warnings.warn(_create_warning_msg(\n",
            "Calculating test set descriptors: 100%|██████████| 8/8 [01:42<00:00, 12.77s/it]\n",
            "Calculating metrics: 100%|██████████| 6/6 [00:02<00:00,  2.23it/s]\n"
          ]
        }
      ],
      "source": [
        "embeddings = extract_embeddings(model, descriptor_key=\"final_descriptor\", dataloader=test_dl, device='cuda')\n",
        "test_submission(embeddings, dataset_df=test_dl.dataset.dataset_df, filename=\"baseline_submission.txt\")"
      ]
    },
    {
      "cell_type": "markdown",
      "metadata": {},
      "source": [
        "## Текстовая информация\n",
        "\n",
        "Для решения задачи также предлагается использовать OCR-пайплайн, [реализация](https://github.com/OPR-Project/OpenPlaceRecognition/tree/main/notebooks/ocr_text_labels_pipeline.ipynb) которого представлена в библиотеке OpenPlaceRecognition. Таким образом, для предсказания места помимо текстовых эмбеддингов можно использовать текст, найденный на сцене."
      ]
    },
    {
      "cell_type": "markdown",
      "metadata": {
        "id": "DaU9e9P0WzS1"
      },
      "source": [
        "Файл с сабмитом необходимо загружать на яндекс контест: https://contest.yandex.ru/contest/63631\n",
        "\n",
        "Удачи!"
      ]
    },
    {
      "cell_type": "code",
      "execution_count": null,
      "metadata": {
        "id": "kZKkt-RHBkWi"
      },
      "outputs": [],
      "source": []
    }
  ],
  "metadata": {
    "accelerator": "GPU",
    "colab": {
      "gpuType": "T4",
      "provenance": []
    },
    "kernelspec": {
      "display_name": "Python 3",
      "name": "python3"
    },
    "language_info": {
      "name": "python"
    }
  },
  "nbformat": 4,
  "nbformat_minor": 0
}
